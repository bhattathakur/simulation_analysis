{
 "cells": [
  {
   "cell_type": "code",
   "execution_count": null,
   "id": "9cc73f59-c312-45f5-97cd-4825f6ce6ced",
   "metadata": {},
   "outputs": [],
   "source": [
    "import pandas as pd\n",
    "import matplotlib.pyplot as plt"
   ]
  },
  {
   "cell_type": "markdown",
   "id": "965f74f1-1373-49d7-adf8-6f377f1a34ff",
   "metadata": {},
   "source": [
    "# Default Dead Layer\n",
    "### fDeadLayerSideThickness: 1.65   mm \n",
    "### fDeadLayerTopThickness:  0.0004 mm\n",
    "# Dead Layer ~0\n",
    "### fDeadLayerSideThickness: 0.0004 mm \n",
    "### fDeadLayerTopThickness:  0.0004 mm"
   ]
  },
  {
   "cell_type": "code",
   "execution_count": null,
   "id": "1e80eb21-37fc-4d21-ba51-2d1f7d9b5ec3",
   "metadata": {},
   "outputs": [],
   "source": [
    "df=pd.read_csv('/home/thakur/mylab/ryanfiles/macros/door_corner_frontleftcorner_eff.csv')\n",
    "df"
   ]
  },
  {
   "cell_type": "code",
   "execution_count": null,
   "id": "855d1b06-62e5-4d7b-bbcb-42d8817c0f51",
   "metadata": {},
   "outputs": [],
   "source": [
    "%matplotlib inline\n",
    "#%matplotlib qt\n",
    "gamma=r'(46.5390 keV $\\gamma$ [Pb-210])'\n",
    "fig,axes=plt.subplots(2,1,figsize=(10,8))\n",
    "plt.setp(axes, xticks=[1, 2, 3], xticklabels=df.position.to_list())\n",
    "axes[0].errorbar([1,2,3],df.d0eff,yerr=df.d0error,ecolor='r',fmt='b.')\n",
    "axes[0].set_title('Dead layer0 '+gamma)\n",
    "axes[0].set_ylabel(\"Data/Simulation\")\n",
    "axes[0].set_ylim(0,3)\n",
    "axes[1].errorbar([1,2,3],df.defaulteff,yerr=df.defaulterror,ecolor='r',fmt='b.')\n",
    "axes[1].set_title('Default Dead layer '+gamma)\n",
    "axes[1].set_ylabel(\"Data/Simulation\")\n",
    "axes[1].set_ylim(0,5)\n",
    "fig.tight_layout()\n",
    "plt.savefig(\"defaultdead.pdf\",dpi=300)\n",
    "plt.show()"
   ]
  },
  {
   "cell_type": "markdown",
   "id": "dca4a715-e91d-4053-b9fc-97510b09ac94",
   "metadata": {
    "tags": []
   },
   "source": [
    "# simulations with source at door (in source code)\n",
    "# mac position at frontleftcorner\n",
    "# geiv_frontleftcorner_data"
   ]
  },
  {
   "cell_type": "code",
   "execution_count": null,
   "id": "3d54ac8d-b84d-45f3-bfae-e1ab5169f55e",
   "metadata": {},
   "outputs": [],
   "source": [
    "door_frontleftcorner_confine_deadlayer0=[0.740 ,0.027] #[1.417398e+00,3.473166e-02]\n",
    "door_frontleftcorner_noconfine_deadlayer0=[0.740,0.027] #[1.416836e+00,3.480910e-02]\n",
    "door_frontleftcorner_confine_deadlayerdefault=[ 0.844, 0.031]\n",
    "door_frontleftcorner_noconfine_deadlayerdefault=[0.850,0.031]\n",
    "\n",
    "\n"
   ]
  },
  {
   "cell_type": "code",
   "execution_count": null,
   "id": "a48e7218-35b2-48af-8059-9c6b731be1ec",
   "metadata": {},
   "outputs": [],
   "source": [
    "index=['confine_deadlayer0','noconfine_deadlayer0','confine_deadlayerdefault','noconfine_deadlayerdefault']\n",
    "columns=['correction_eff (data/simulation)','eff_error']\n",
    "pd.DataFrame([door_frontleftcorner_confine_deadlayer0,door_frontleftcorner_noconfine_deadlayer0,door_frontleftcorner_confine_deadlayerdefault,door_frontleftcorner_noconfine_deadlayerdefault],index=index,columns=columns)"
   ]
  },
  {
   "cell_type": "markdown",
   "id": "3d660d5b-c422-4beb-855c-1bc619db6a44",
   "metadata": {
    "tags": []
   },
   "source": [
    "# simulations with source at frontleftcorner (source code)\n",
    "# mac position at door\n",
    "# geiv_door_data"
   ]
  },
  {
   "cell_type": "code",
   "execution_count": null,
   "id": "ab16920e-fa98-4e1e-9f6c-184c3913c655",
   "metadata": {},
   "outputs": [],
   "source": [
    "frontleftcorner_door_no_confine_defaultdeadlayer=[0.852,0.020] #eff, error\n",
    "frontleftcorner_door_confine_ic_defaultdeadlayer=[0.853,0.021]\n",
    "frontleftcorner_door_nodefaultdeadlayer=[0.788,0.019]\n",
    "frontleftcorner_door_confine_ic_nodefaultdeadlayer=[0.784,0.019]\n",
    "front_left_corner=[frontleftcorner_door_no_confine_defaultdeadlayer,frontleftcorner_door_confine_ic_defaultdeadlayer,\\\n",
    "                   frontleftcorner_door_nodefaultdeadlayer,frontleftcorner_door_confine_ic_nodefaultdeadlayer]"
   ]
  },
  {
   "cell_type": "code",
   "execution_count": null,
   "id": "22c7e043-b3f8-4fe2-b8e3-36bdec59fd68",
   "metadata": {},
   "outputs": [],
   "source": [
    "sim_rows=['frontleftcorner-door-confine-ic-nodefaultdeadlayer','frontleftcorner-door-confine-ic-defaultdeadlayer','frontleftcorner-door-nodefaultdeadlayer','frontleftcorner-door-confine-ic-nodefaultdeadlayer']"
   ]
  },
  {
   "cell_type": "code",
   "execution_count": null,
   "id": "d5749000-9061-4218-be02-c1263c74b9a9",
   "metadata": {},
   "outputs": [],
   "source": [
    "columns=['correction_eff(data/simulation)','eff_error']"
   ]
  },
  {
   "cell_type": "code",
   "execution_count": null,
   "id": "bf2833fb-6898-49cf-8ff9-2c634e3d21e0",
   "metadata": {},
   "outputs": [],
   "source": [
    "df=pd.DataFrame(front_left_corner,sim_rows,columns)\n",
    "df"
   ]
  },
  {
   "cell_type": "code",
   "execution_count": null,
   "id": "4b13fdef-596b-415a-9caa-30880fc275b5",
   "metadata": {},
   "outputs": [],
   "source": [
    "eff=df['correction_eff(data/simulation)'];error=df['eff_error']"
   ]
  },
  {
   "cell_type": "code",
   "execution_count": null,
   "id": "cf105ecf-0b7a-479c-af68-c99981a77323",
   "metadata": {},
   "outputs": [],
   "source": []
  },
  {
   "cell_type": "code",
   "execution_count": null,
   "id": "1d9e53b8-fc44-408d-9f88-fbc519c4ca8a",
   "metadata": {},
   "outputs": [],
   "source": []
  }
 ],
 "metadata": {
  "kernelspec": {
   "display_name": "Python 3",
   "language": "python",
   "name": "python3"
  },
  "language_info": {
   "codemirror_mode": {
    "name": "ipython",
    "version": 3
   },
   "file_extension": ".py",
   "mimetype": "text/x-python",
   "name": "python",
   "nbconvert_exporter": "python",
   "pygments_lexer": "ipython3",
   "version": "3.8.10"
  }
 },
 "nbformat": 4,
 "nbformat_minor": 5
}
