{
 "cells": [
  {
   "cell_type": "code",
   "execution_count": null,
   "id": "f1fb049b-8b4d-4dc9-9e4b-9979c90ccb59",
   "metadata": {},
   "outputs": [],
   "source": [
    "import pandas as pd\n",
    "import matplotlib.pyplot as plt\n",
    "import numpy as np\n",
    "plt.style.use(['science','notebook','grid'])"
   ]
  },
  {
   "cell_type": "code",
   "execution_count": null,
   "id": "159b8f27",
   "metadata": {},
   "outputs": [],
   "source": [
    "pd.options.display.max_columns=500;pd.options.display.max_rows=500"
   ]
  },
  {
   "cell_type": "code",
   "execution_count": null,
   "id": "5f6eec0a-54b8-455c-8b67-d3088ec62f43",
   "metadata": {},
   "outputs": [],
   "source": [
    "file_pb='/home/thakur/mylab/ryanfiles/macros/doorsimulationden1.22.csv'\n",
    "file_am='/home/thakur/mylab/ryanfiles/macros/doorsimulationden2.55.csv'\n",
    "file_co='/home/thakur/mylab/ryanfiles/macros/doorsimulationden1.68.csv'"
   ]
  },
  {
   "cell_type": "code",
   "execution_count": null,
   "id": "790aa7f5-fbe8-4f8a-be5a-15fe8c406383",
   "metadata": {},
   "outputs": [],
   "source": [
    "\n",
    "\n",
    "def create_plot(x,y,y_error,title,save_name):\n",
    "    fig,ax=plt.subplots(figsize=(15,10))\n",
    "    ax.errorbar(x,y,y_error,fmt='b.',ecolor='r')\n",
    "    ax.set_xlabel('top_dead_layer [mm]')\n",
    "    ax.set_ylabel('data/simulation')\n",
    "    ax.axhline(y=1,color='g',linestyle='--',alpha=0.5)\n",
    "    ax.set_title(title)\n",
    "    plt.savefig(save_name)\n",
    "    plt.show()\n",
    "#create_plot(x,y,y_error,title,'test')"
   ]
  },
  {
   "cell_type": "code",
   "execution_count": null,
   "id": "06e666ff",
   "metadata": {},
   "outputs": [],
   "source": [
    "#create a function\n",
    "# x=df['topDeadLayer(mm)'];y=df['pb-210-data/simulation'];y_error=df['pb-error']\n",
    "# iso='Pb-210';den=1.22\n",
    "# title=fr'$20 \\times 10^{8}$ {iso} simulations at the Door (density={den} $g/cm^3$ )'\n",
    "#print(title)\n",
    "\n",
    "def create_plot_fit(x,y,y_error,title,save_name):\n",
    "    fig,ax=plt.subplots(figsize=(15,10))\n",
    "    ax.errorbar(x,y,y_error,fmt='b.',ecolor='r')\n",
    "    ax.set_xlabel('top_dead_layer [mm]')\n",
    "    ax.set_ylabel('data/simulation')\n",
    "    ax.axhline(y=1,color='g',linestyle='-',alpha=0.25)\n",
    "\n",
    "    #best fit line\n",
    "    c,m = np.polynomial.polynomial.polyfit(x, y, deg=1)\n",
    "    \n",
    "    ax.plot(x,m*x+c,'c:',label=f'{c:0.2f}+{m:0.2f}x',alpha=0.5)\n",
    "\n",
    "    x1=round((1-c)/m,3)\n",
    "    ax.text(x1,1-0.002,f'({x1},{1})')\n",
    "    ax.legend()\n",
    "    \n",
    "    ax.set_title(title)\n",
    "    plt.savefig(save_name)\n",
    "    plt.show()\n"
   ]
  },
  {
   "cell_type": "markdown",
   "id": "d8d7eb77-150a-4880-a409-ccca8e930490",
   "metadata": {},
   "source": [
    "# Pb data/simulation for density of 1.22 $g/cm^3$"
   ]
  },
  {
   "cell_type": "code",
   "execution_count": null,
   "id": "9ddf59a6-8a63-4d8a-9111-387e408af60d",
   "metadata": {},
   "outputs": [],
   "source": [
    "df_pb=pd.read_csv(file_pb,sep='\\t',index_col=0)\\\n",
    ".sort_values(by='topDeadLayer(mm)')\n",
    "df_pb"
   ]
  },
  {
   "cell_type": "code",
   "execution_count": null,
   "id": "aae57872",
   "metadata": {},
   "outputs": [],
   "source": [
    "df_pb.columns"
   ]
  },
  {
   "cell_type": "code",
   "execution_count": null,
   "id": "b1862644",
   "metadata": {},
   "outputs": [],
   "source": [
    "df_pb=df_pb.loc[df_pb['topDeadLayer(mm)']>0.008]\\\n",
    ".loc[df_pb['topDeadLayer(mm)']!=0.010]\n",
    "df_pb"
   ]
  },
  {
   "cell_type": "code",
   "execution_count": null,
   "id": "7aec9111-ecaa-4ca9-bd4a-d54e26b8cb2e",
   "metadata": {},
   "outputs": [],
   "source": [
    "x=np.array(df_pb['topDeadLayer(mm)']);y=np.array(df_pb['pb-210-data/simulation']);y_error=np.array(df_pb['pb-error'])\n",
    "iso='Pb-210';den=1.22\n",
    "title=fr'$20 \\times 10^{8}$ {iso} simulations at the Door (bead density={den} $g/cm^3$ )'\n",
    "save=iso+'.pdf'\n",
    "create_plot_fit(x,y,y_error,title,save)"
   ]
  },
  {
   "cell_type": "code",
   "execution_count": null,
   "id": "4dd1cb82-96c4-4d98-85c9-79cbf69eb896",
   "metadata": {},
   "outputs": [],
   "source": [
    "x_pb=np.array(df_pb['topDeadLayer(mm)']);y_pb=np.array(df_pb['pb-210-data/simulation']);y_error_pb=np.array(df_pb['pb-error'])\n",
    "x_pb,y_pb,y_error_pb"
   ]
  },
  {
   "cell_type": "code",
   "execution_count": null,
   "id": "f8ac451a",
   "metadata": {},
   "outputs": [],
   "source": [
    "df_am=pd.read_csv(file_am,sep='\\t',index_col=0)\n",
    "df_am\n",
    "#topdeadLayer(mm)\tam(data/simulation)\tam(error)\tpb(data/simulation)\tpb(error)\n",
    "x=np.array(df_am['topdeadLayer(mm)']);y=np.array(df_am['am(data/simulation)']);y_error=np.array(df_am['am(error)'])\n",
    "iso='Am-241';den=2.55\n",
    "\n",
    "title=fr'$20 \\times 10^{8}$ {iso} simulations at the Door (bead density={den} $g/cm^3$ )'\n",
    "save=iso+'.pdf'\n",
    "\n",
    "create_plot_fit(x,y,y_error,title,save)"
   ]
  },
  {
   "cell_type": "code",
   "execution_count": null,
   "id": "3f802bc8-bfbd-4270-8328-28467abef621",
   "metadata": {},
   "outputs": [],
   "source": [
    "x_am=np.array(df_am['topdeadLayer(mm)']);y_am=np.array(df_am['am(data/simulation)']);y_error_am=np.array(df_am['am(error)'])\n",
    "x_am,y_am,y_error_am"
   ]
  },
  {
   "cell_type": "code",
   "execution_count": null,
   "id": "73995040",
   "metadata": {},
   "outputs": [],
   "source": [
    "x_top=np.array(df_pb['topDeadLayer(mm)'])\n",
    "type(x_top)"
   ]
  },
  {
   "cell_type": "code",
   "execution_count": null,
   "id": "d0f6ae4d",
   "metadata": {},
   "outputs": [],
   "source": [
    "# import numpy as np\n",
    "# import matplotlib.pyplot as plt\n",
    "\n",
    "# # x = np.linspace(0,1,1000)\n",
    "# # f = 1/4\n",
    "\n",
    "# # sine = np.sin(2*np.pi*f*x) + np.random.normal(scale=0.1, size=len(x))\n",
    "# #plt.plot(x,y,'r.')\n",
    "\n",
    "# c,m = np.polynomial.polynomial.polyfit(x, y, deg=1)\n",
    "# # fig, ax = plt.subplots()\n",
    "# plt.plot(x,y,'r.')\n",
    "# # plt.plot(x,m*x+c,'b-')\n",
    "# # #ax.plot(sine, label='data')\n",
    "# # ax.plot(x,np.polyval(poly, x), 'b-',label='fit')\n",
    "# # ax.legend()\n",
    "# x=np.array(x);y=np.array(y)\n",
    "# type(x),type(m)\n",
    "# plt.plot(x,m*x+c,'b--',label=f'{c:0.2f}+{m:0.2f}x')\n",
    "\n",
    "# x1=round((1-c)/m,3)\n",
    "# plt.text(x1,1-0.002,f'({x1},{1})')\n",
    "# plt.legend()\n",
    "# # x1\n",
    "# x1"
   ]
  },
  {
   "cell_type": "code",
   "execution_count": null,
   "id": "380d0224-34b7-448d-a979-d96d3e9dfbdc",
   "metadata": {},
   "outputs": [],
   "source": [
    "df_co=pd.read_csv(file_co,sep='\\t',index_col=0)\n",
    "df_co"
   ]
  },
  {
   "cell_type": "markdown",
   "id": "95a765e3-144d-4f52-9f12-870cdcdcf149",
   "metadata": {},
   "source": [
    "# Am data/simulation from the combined density $1.68\\;g/cm^3$"
   ]
  },
  {
   "cell_type": "code",
   "execution_count": null,
   "id": "223435aa-11ec-4662-ba94-4188b1196f79",
   "metadata": {},
   "outputs": [],
   "source": [
    "x=df_co['topdeadLayer(mm)'];y=df_co['am(data/simulation)'];y_error=df_co['am(error)']\n",
    "x=np.array(x);y=np.array(y);y_error=np.array(y_error)\n",
    "iso='Am-241';den=1.68\n",
    "title=fr'$20 \\times 10^{8}$ {iso} simulations at the Door (bead density={den} $g/cm^3$ )'\n",
    "save=iso+'com.pdf'\n",
    "\n",
    "\n",
    "create_plot_fit(x,y,y_error,title,save)\n"
   ]
  },
  {
   "cell_type": "code",
   "execution_count": null,
   "id": "e8ec5c48-e23d-460e-b5ff-aebcead22f73",
   "metadata": {},
   "outputs": [],
   "source": [
    "x_am_co=np.array(df_co['topdeadLayer(mm)']);y_am_co=np.array(df_co['am(data/simulation)']);y_error_am_co=np.array(df_co['am(error)'])\n",
    "x_am_co,y_am_co,y_error_am_co"
   ]
  },
  {
   "cell_type": "markdown",
   "id": "787d2300-03cb-4e9a-9e07-bb6d7cb98e62",
   "metadata": {},
   "source": [
    "# Pb data/simulation from the combined density $1.68\\;g/cm^3$"
   ]
  },
  {
   "cell_type": "code",
   "execution_count": null,
   "id": "2f42bc1e-8cc3-40f2-91f5-33ca9fe5e960",
   "metadata": {},
   "outputs": [],
   "source": [
    "x=df_co['topdeadLayer(mm)'];y=df_co['pb(data/simulation)'];y_error=df_co['pb(error)']\n",
    "x=np.array(x);y=np.array(y);y_error=np.array(y_error)\n",
    "iso='Pb-210';den=1.68\n",
    "title=fr'$20 \\times 10^{8}$ {iso} simulations at the Door (bead density={den} $g/cm^3$ )'\n",
    "save=iso+'com.pdf'\n",
    "\n",
    "create_plot_fit(x,y,y_error,title,save)\n"
   ]
  },
  {
   "cell_type": "code",
   "execution_count": null,
   "id": "17452f2f-a939-43f7-aec3-deba011cb20a",
   "metadata": {},
   "outputs": [],
   "source": [
    "x_pb_co=np.array(df_co['topdeadLayer(mm)']);y_pb_co=np.array(df_co['pb(data/simulation)']);y_error_pb_co=np.array(df_co['pb(error)'])\n",
    "x_pb_co,y_pb_co,y_error_pb_co"
   ]
  },
  {
   "cell_type": "code",
   "execution_count": null,
   "id": "f98f9636-9e04-4092-ba1a-4abf7e64ddc5",
   "metadata": {},
   "outputs": [],
   "source": [
    "def return_plot_fit(ax,x,y,y_error):\n",
    "    \"\"\"\n",
    "    Function to create multiple plots in a same canvas\n",
    "    \"\"\"\n",
    "    fig,ax=plt.subplots(figsize=(15,10))\n",
    "    ax.errorbar(x,y,y_error,fmt='b.',ecolor='r')\n",
    "    ax.set_xlabel('top_dead_layer [mm]')\n",
    "    ax.set_ylabel('data/simulation')\n",
    "    ax.axhline(y=1,color='g',linestyle='-',alpha=0.25)\n",
    "\n",
    "    #best fit line\n",
    "    c,m = np.polynomial.polynomial.polyfit(x, y, deg=1)\n",
    "    \n",
    "    ax.plot(x,m*x+c,'c:',label=f'{c:0.2f}+{m:0.2f}x',alpha=0.5)\n",
    "\n",
    "    x1=round((1-c)/m,3)\n",
    "    ax.text(x1,1-0.002,f'({x1},{1})')\n",
    "    ax.legend()\n",
    "    return ax"
   ]
  },
  {
   "cell_type": "code",
   "execution_count": null,
   "id": "b4924db5-d38a-4aa7-a5f8-ac2e24ebc686",
   "metadata": {},
   "outputs": [],
   "source": [
    "def my_plotter(ax, x, y,y_error, param_dict,lab,fit='c:'):\n",
    "    \"\"\"\n",
    "    A helper function to make a graph\n",
    "\n",
    "    Parameters\n",
    "    ----------\n",
    "    ax : Axes\n",
    "        The axes to draw to\n",
    "\n",
    "    data1 : array\n",
    "       The x data\n",
    "\n",
    "    data2 : array\n",
    "       The y data\n",
    "\n",
    "    param_dict : dict\n",
    "       Dictionary of keyword arguments to pass to ax.plot\n",
    "\n",
    "    Returns\n",
    "    -------\n",
    "    out : list\n",
    "        list of artists added\n",
    "    \"\"\"\n",
    "    out = ax.errorbar(x, y, y_error,**param_dict)\n",
    "    c,m = np.polynomial.polynomial.polyfit(x, y, deg=1)\n",
    "    \n",
    "    # ax.plot(x,m*x+c,fit,label=f'{c:0.2f}+{m:0.2f}x',alpha=0.5)\n",
    "    # x1=round((1-c)/m,3)\n",
    "    x1=round((1-c)/m,3)\n",
    "    ax.plot(x,m*x+c,fit,label=f'{c:0.2f}+{m:0.2f}x=>({lab}) [d= {x1}]',alpha=0.5)\n",
    "    #x1=round((1-c)/m,3)\n",
    "    ax.text(x1,1-0.002,f'({x1},{1})',rotation=90)\n",
    "    #ax.text(x1,1-0.002,f'({x1},{1})')\n",
    "    ax.set_xlabel('top_dead_layer [mm]')\n",
    "    ax.set_ylabel('data/simulation')\n",
    "    ax.axhline(y=1,color='g',linestyle='-',alpha=0.25)\n",
    "    ax.legend()\n",
    "    \n",
    "    return out"
   ]
  },
  {
   "cell_type": "code",
   "execution_count": null,
   "id": "9aff6213-336b-4cb7-8749-1068275fd4ad",
   "metadata": {},
   "outputs": [],
   "source": [
    "def my_plotter_test(ax, x, y,y_error, param_dict,lab,fit='c:'):\n",
    "    \"\"\"\n",
    "    A helper function to make a graph\n",
    "\n",
    "    Parameters\n",
    "    ----------\n",
    "    ax : Axes\n",
    "        The axes to draw to\n",
    "\n",
    "    data1 : array\n",
    "       The x data\n",
    "\n",
    "    data2 : array\n",
    "       The y data\n",
    "\n",
    "    param_dict : dict\n",
    "       Dictionary of keyword arguments to pass to ax.plot\n",
    "\n",
    "    Returns\n",
    "    -------\n",
    "    out : list\n",
    "        list of artists added\n",
    "    \"\"\"\n",
    "    out = ax.errorbar(x, y, y_error,**param_dict,label=lab)\n",
    "    c,m = np.polynomial.polynomial.polyfit(x, y, deg=1)\n",
    "    \n",
    "    # ax.plot(x,m*x+c,fit,label=f'{c:0.2f}+{m:0.2f}x',alpha=0.5)\n",
    "    # x1=round((1-c)/m,3)\n",
    "    x1=round((1-c)/m,3)\n",
    "    label=f'y={c:0.2f}+{m:0.2f}x'#=>({lab}) [d= {x1}]'\n",
    "    ax.plot(x,m*x+c,fit,label=label,alpha=0.5)\n",
    "    #x1=round((1-c)/m,3)\n",
    "    ax.text(x1,1-0.002,f'({x1},{1})',rotation=90)\n",
    "    #ax.text(x1,1-0.002,f'({x1},{1})')\n",
    "    ax.set_xlabel('top_dead_layer [mm]')\n",
    "    ax.set_ylabel('data/simulation')\n",
    "    ax.axhline(y=1,color='g',linestyle='-',alpha=0.25)\n",
    "    ax.legend()\n",
    "    \n",
    "    return out"
   ]
  },
  {
   "cell_type": "code",
   "execution_count": null,
   "id": "f9c6cce3-8eaa-4ff6-9234-81c9d731bda7",
   "metadata": {},
   "outputs": [],
   "source": [
    "# fig, ax = plt.subplots(1, 1)\n",
    "# my_plotter(ax, x, y,y_error, {'fmt': 'b.','ecolor':'r'})"
   ]
  },
  {
   "cell_type": "code",
   "execution_count": null,
   "id": "ce68244d-e2ad-46f8-9c05-a90e56002364",
   "metadata": {},
   "outputs": [],
   "source": [
    "%matplotlib qt\n",
    "fig, ax = plt.subplots(1, 1,figsize=(20,15))\n",
    "my_plotter(ax, x_am, y_am,y_error_am, {'fmt': 'b.','ecolor':'r'},'am-2.55',fit='m:')\n",
    "my_plotter(ax, x_am_co, y_am_co,y_error_am_co, {'fmt': 'b.','ecolor':'r'},'am-1.68',fit='m:')\n",
    "\n",
    "my_plotter(ax, x_pb, y_pb,y_error_pb, {'fmt': 'b.','ecolor':'b'},'pb-1.22',fit='b:')\n",
    "my_plotter(ax, x_pb_co, y_pb_co,y_error_pb_co, {'fmt': 'b.','ecolor':'b'},'pb-1.68',fit='b:')\n",
    "plt.title('Data/Simulation with varying top dead layer for Door Positon')\n",
    "#plt.savefig(\"door.pdf\",dpi=300)\n",
    "plt.show()"
   ]
  },
  {
   "cell_type": "code",
   "execution_count": null,
   "id": "40f0daba-a8b3-45cc-9ec4-fced1a7bf817",
   "metadata": {},
   "outputs": [],
   "source": [
    "%matplotlib qt\n",
    "fig, ax = plt.subplots(1, 1,figsize=(20,15))\n",
    "my_plotter_test(ax, x_am, y_am,y_error_am, {'fmt': 'r.','ecolor':'r','marker':'s'},'am-2.55',fit='r--')\n",
    "my_plotter_test(ax, x_am_co, y_am_co,y_error_am_co, {'fmt': 'b.','ecolor':'b','marker':'s'},'am-1.68',fit='b:')\n",
    "\n",
    "my_plotter_test(ax, x_pb, y_pb,y_error_pb, {'fmt': 'r.','ecolor':'r'},'pb-1.22',fit='r--')\n",
    "my_plotter_test(ax, x_pb_co, y_pb_co,y_error_pb_co, {'fmt': 'b.','ecolor':'b'},'pb-1.68',fit='b:')\n",
    "plt.title('Data/Simulation with varying top dead layer for Door Positon')\n",
    "plt.savefig(\"finaldoor.pdf\",dpi=300)\n",
    "plt.show()"
   ]
  },
  {
   "cell_type": "code",
   "execution_count": null,
   "id": "3647882a-2fd6-427b-80e6-bc3aaa27dccb",
   "metadata": {},
   "outputs": [],
   "source": []
  }
 ],
 "metadata": {
  "kernelspec": {
   "display_name": "Python 3 (ipykernel)",
   "language": "python",
   "name": "python3"
  },
  "language_info": {
   "codemirror_mode": {
    "name": "ipython",
    "version": 3
   },
   "file_extension": ".py",
   "mimetype": "text/x-python",
   "name": "python",
   "nbconvert_exporter": "python",
   "pygments_lexer": "ipython3",
   "version": "3.10.6"
  },
  "vscode": {
   "interpreter": {
    "hash": "916dbcbb3f70747c44a77c7bcd40155683ae19c65e1c03b4aa3499c5328201f1"
   }
  }
 },
 "nbformat": 4,
 "nbformat_minor": 5
}
