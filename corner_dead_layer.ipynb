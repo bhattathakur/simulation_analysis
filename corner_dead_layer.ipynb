{
 "cells": [
  {
   "cell_type": "code",
   "execution_count": null,
   "id": "f1fb049b-8b4d-4dc9-9e4b-9979c90ccb59",
   "metadata": {},
   "outputs": [],
   "source": [
    "import pandas as pd\n",
    "import matplotlib.pyplot as plt\n",
    "import numpy as np\n",
    "plt.style.use(['science','notebook','grid'])"
   ]
  },
  {
   "cell_type": "code",
   "execution_count": null,
   "id": "159b8f27",
   "metadata": {},
   "outputs": [],
   "source": [
    "pd.options.display.max_columns=500;pd.options.display.max_rows=500"
   ]
  },
  {
   "cell_type": "code",
   "execution_count": null,
   "id": "88682283-322f-4bbb-a7c3-3450b825d185",
   "metadata": {},
   "outputs": [],
   "source": [
    "! pwd\n"
   ]
  },
  {
   "cell_type": "markdown",
   "id": "bd7c3be3-fa64-4cc3-9463-dac8426bb163",
   "metadata": {},
   "source": [
    "# Corner simulation results"
   ]
  },
  {
   "cell_type": "code",
   "execution_count": null,
   "id": "5f6eec0a-54b8-455c-8b67-d3088ec62f43",
   "metadata": {},
   "outputs": [],
   "source": [
    "root='/home/thakur/simulation_analysis/'\n",
    "file_am=root+'am241corner.csv'\n",
    "file_pb=root+'pb210corner.csv'\n",
    "file_co=root+'combinedcorner.csv'"
   ]
  },
  {
   "cell_type": "code",
   "execution_count": null,
   "id": "790aa7f5-fbe8-4f8a-be5a-15fe8c406383",
   "metadata": {},
   "outputs": [],
   "source": [
    "\n",
    "\n",
    "def create_plot(x,y,y_error,title,save_name):\n",
    "    fig,ax=plt.subplots(figsize=(15,10))\n",
    "    ax.errorbar(x,y,y_error,fmt='b.',ecolor='r')\n",
    "    ax.set_xlabel('side_dead_layer [mm]')\n",
    "    ax.set_ylabel('data/simulation')\n",
    "    ax.axhline(y=1,color='g',linestyle='--',alpha=0.5)\n",
    "    ax.set_title(title)\n",
    "    plt.savefig(save_name)\n",
    "    plt.show()\n",
    "#create_plot(x,y,y_error,title,'test')"
   ]
  },
  {
   "cell_type": "code",
   "execution_count": null,
   "id": "06e666ff",
   "metadata": {},
   "outputs": [],
   "source": [
    "#create a function\n",
    "# x=df['topDeadLayer(mm)'];y=df['pb-210-data/simulation'];y_error=df['pb-error']\n",
    "# iso='Pb-210';den=1.22\n",
    "# title=fr'$20 \\times 10^{8}$ {iso} simulations at the Door (density={den} $g/cm^3$ )'\n",
    "#print(title)\n",
    "\n",
    "def create_plot_fit(x,y,y_error,title,save_name):\n",
    "    fig,ax=plt.subplots(figsize=(15,10))\n",
    "    ax.errorbar(x,y,y_error,fmt='b.',ecolor='r')\n",
    "    ax.set_xlabel('side_dead_layer [mm]')\n",
    "    ax.set_ylabel('data/simulation')\n",
    "    ax.axhline(y=1,color='g',linestyle='-',alpha=0.25)\n",
    "\n",
    "    #best fit line\n",
    "    c,m = np.polynomial.polynomial.polyfit(x, y, deg=1)\n",
    "    \n",
    "    ax.plot(x,m*x+c,'c:',label=f'{c:0.2f}+{m:0.2f}x',alpha=0.5)\n",
    "\n",
    "    x1=round((1-c)/m,3)\n",
    "    ax.text(x1,1-0.002,f'({x1},{1})')\n",
    "    ax.legend()\n",
    "    \n",
    "    ax.set_title(title)\n",
    "    plt.savefig(save_name)\n",
    "    plt.show()\n"
   ]
  },
  {
   "cell_type": "code",
   "execution_count": null,
   "id": "97e53809-40bb-41bb-9287-9d7466577b61",
   "metadata": {},
   "outputs": [],
   "source": [
    "#create a function\n",
    "# x=df['topDeadLayer(mm)'];y=df['pb-210-data/simulation'];y_error=df['pb-error']\n",
    "# iso='Pb-210';den=1.22\n",
    "# title=fr'$20 \\times 10^{8}$ {iso} simulations at the Door (density={den} $g/cm^3$ )'\n",
    "#print(title)\n",
    "\n",
    "def return_plot_fit(x,y,y_error):\n",
    "    fig,ax=plt.subplots(figsize=(15,10))\n",
    "    ax.errorbar(x,y,y_error,fmt='b.',ecolor='r')\n",
    "    ax.set_xlabel('side_dead_layer [mm]')\n",
    "    ax.set_ylabel('data/simulation')\n",
    "    ax.axhline(y=1,color='g',linestyle='-',alpha=0.25)\n",
    "\n",
    "    #best fit line\n",
    "    c,m = np.polynomial.polynomial.polyfit(x, y, deg=1)\n",
    "    \n",
    "    ax.plot(x,m*x+c,'c:',label=f'{c:0.2f}+{m:0.2f}x',alpha=0.5)\n",
    "\n",
    "    x1=round((1-c)/m,3)\n",
    "    ax.text(x1,1-0.002,f'({x1},{1})')\n",
    "    ax.legend()\n",
    "    \n",
    "    #ax.set_title(title)\n",
    "    return ax\n",
    "    # plt.savefig(save_name)\n",
    "    # plt.show()\n"
   ]
  },
  {
   "cell_type": "markdown",
   "id": "d8d7eb77-150a-4880-a409-ccca8e930490",
   "metadata": {},
   "source": [
    "# Pb Corner data/simulation for density of 1.22 $g/cm^3$"
   ]
  },
  {
   "cell_type": "code",
   "execution_count": null,
   "id": "9ddf59a6-8a63-4d8a-9111-387e408af60d",
   "metadata": {},
   "outputs": [],
   "source": [
    "df_pb=pd.read_csv(file_pb,sep='\\t')\\\n",
    ".sort_values(by='deadlayer(mm)')\\\n",
    ".reset_index(drop=True)\n",
    "df_pb"
   ]
  },
  {
   "cell_type": "code",
   "execution_count": null,
   "id": "65c9ea9b-2bba-4b5b-b201-4e7a30256bc4",
   "metadata": {},
   "outputs": [],
   "source": [
    "df_am=pd.read_csv(file_am,sep='\\t')\\\n",
    ".sort_values(by='deadlayer(mm)')\\\n",
    ".reset_index(drop=True)\n",
    "df_am"
   ]
  },
  {
   "cell_type": "code",
   "execution_count": null,
   "id": "aae57872",
   "metadata": {},
   "outputs": [],
   "source": [
    "df_pb.columns"
   ]
  },
  {
   "cell_type": "code",
   "execution_count": null,
   "id": "b1862644",
   "metadata": {},
   "outputs": [],
   "source": [
    "# df_pb=df_pb.loc[df_pb['topDeadLayer(mm)']>0.008]\\\n",
    "# .loc[df_pb['topDeadLayer(mm)']!=0.010]\n",
    "# df_pb"
   ]
  },
  {
   "cell_type": "code",
   "execution_count": null,
   "id": "7aec9111-ecaa-4ca9-bd4a-d54e26b8cb2e",
   "metadata": {},
   "outputs": [],
   "source": [
    "x=np.array(df_pb['deadlayer(mm)']);y=np.array(df_pb['pb(data/sim)']);y_error=np.array(df_pb['pb(error)'])\n",
    "iso='Pb-210';den=1.22\n",
    "title=fr'$20 \\times 10^{8}$ {iso} simulations at the Corner (bead density={den} $g/cm^3$ )'\n",
    "save=iso+'.pdf'\n",
    "create_plot_fit(x,y,y_error,title,save)"
   ]
  },
  {
   "cell_type": "code",
   "execution_count": null,
   "id": "98a5f23e-82f0-4b27-b10c-59ac832bbe98",
   "metadata": {},
   "outputs": [],
   "source": [
    "#ax=return_plot_fit(x,y,y_error)\n",
    "\n",
    "#%matplotlib inline\n",
    "%matplotlib qt\n",
    "\n",
    "plt.figure(figsize=(40,30))\n",
    "a=0.25\n",
    "ch=0.1\n",
    "\n",
    "x=np.array(df_pb['deadlayer(mm)']);y=np.array(df_pb['pb(data/sim)']);y_error=np.array(df_pb['pb(error)'])\n",
    "plt.errorbar(x,y,y_error,fmt='r.',label='pb-1.22')\n",
    "\n",
    "c,m = np.polynomial.polynomial.polyfit(x, y, deg=1)\n",
    "plt.plot(x,m*x+c,'r--',label=f'{c:0.2f}+{m:0.2f}x',alpha=a)\n",
    "\n",
    "xe=round((1-c)/m,3)\n",
    "#plt.text(xe,1-1*ch,f'({xe},{1})')\n",
    "x=df_co['deadlayer(mm)'];y=df_co['pb(data/sim)'];y_error=df_co['pb(error)']\n",
    "\n",
    "plt.errorbar(x,y,y_error,fmt='c.',label='pb-1.68')\n",
    "\n",
    "c,m = np.polynomial.polynomial.polyfit(x, y, deg=1)\n",
    "plt.plot(x,m*x+c,'c--',label=f'{c:0.2f}+{m:0.2f}x',alpha=a)\n",
    "xe=round((1-c)/m,3)\n",
    "\n",
    "x=np.array(df_am['deadlayer(mm)']);y=np.array(df_am['am(data/sim)']);y_error=np.array(df_am['am(error)'])\n",
    "plt.errorbar(x,y,y_error,fmt='b.',label='am-2.55')\n",
    "\n",
    "c,m = np.polynomial.polynomial.polyfit(x, y, deg=1)\n",
    "plt.plot(x,m*x+c,'b--',label=f'{c:0.2f}+{m:0.2f}x',alpha=a)\n",
    "\n",
    "xe=round((1-c)/m,3)\n",
    "#plt.text(xe,1-2*ch,f'({xe},{1})')\n",
    "\n",
    "x=df_co['deadlayer(mm)'];y=df_co['am(data/sim)'];y_error=df_co['am(error)']\n",
    "plt.errorbar(x,y,y_error,fmt='g.',label='am-1.68')\n",
    "\n",
    "c,m = np.polynomial.polynomial.polyfit(x, y, deg=1)\n",
    "plt.plot(x,m*x+c,'g--',label=f'{c:0.2f}+{m:0.2f}x',alpha=a)\n",
    "\n",
    "xe=round((1-c)/m,3)\n",
    "#plt.text(xe,1-3*ch,f'({xe},{1})')\n",
    "\n",
    "\n",
    "#plt.text(xe,1-4*ch,f'({xe},{1})')\n",
    "\n",
    "#xe=round((1-c)/m,3)\n",
    "# plt.text(xe,1-0.002,f'({xe},{1})')\n",
    "# plt.errorbar(x1,y1,y1_error,fmt='b.',label='am-2.55')\n",
    "# plt.errorbar(x2,y2,y2_error,fmt='g.',label='am-1.68')\n",
    "# plt.errorbar(x3,y3,y3_error,fmt='m.',label='pb-1.68')\n",
    "plt.axhline(y=1,color='k',linestyle='--',alpha=0.25)\n",
    "\n",
    "plt.legend()\n",
    "# # iso='Am-241';den=2.55\n",
    "# iso='Pb-210';den=1.22\n",
    "title=r'$20 \\times 10^{8}$ simulations at the Corner'\n",
    "x_label='side dead layer [mm]';y_label='data/simulation'\n",
    "plt.xlabel(x_label)\n",
    "plt.ylabel(y_label)\n",
    "plt.title(title)\n",
    "plt.savefig('combined_corner.pdf',dpi=300)\n",
    "# save=iso+'.pdf'\n",
    "\n",
    "# ax.plot(x,y,y_error)\n",
    "# ax.plot(x1,y1,y1_error)\n",
    "# plt.show()\n",
    "\n",
    "\n",
    "# # x1=np.array(df_am['deadlayer(mm)']);y1=np.array(df_am['am(data/sim)']);y1_error=np.array(df_am['am(error)'])\n",
    "# # iso='Am-241';den=2.55\n",
    "\n",
    "# # title=fr'$20 \\times 10^{8}$ {iso} simulations at the Corner (bead density={den} $g/cm^3$ )'\n",
    "# # save=iso+'.pdf'\n",
    "\n",
    "# # ax1=return_plot_fit(x1,y1,y1_error,title,save)"
   ]
  },
  {
   "cell_type": "code",
   "execution_count": null,
   "id": "f8ac451a",
   "metadata": {},
   "outputs": [],
   "source": [
    "df_am=pd.read_csv(file_am,sep='\\t')\\\n",
    ".sort_values(by='deadlayer(mm)')\\\n",
    ".reset_index(drop=True)\n",
    "\n",
    "df_am\n",
    "# # #topdeadLayer(mm)\tam(data/simulation)\tam(error)\tpb(data/simulation)\tpb(error)\n",
    "# x=np.array(df_am['deadlayer(mm)']);y=np.array(df_am['am(data/sim)']);y_error=np.array(df_am['am(error)'])\n",
    "# iso='Am-241';den=2.55\n",
    "\n",
    "# title=fr'$20 \\times 10^{8}$ {iso} simulations at the Door (bead density={den} $g/cm^3$ )'\n",
    "# save=iso+'.pdf'\n",
    "\n",
    "# create_plot_fit(x,y,y_error,title,save)"
   ]
  },
  {
   "cell_type": "code",
   "execution_count": null,
   "id": "2317b1fa-4a6a-433c-b2d6-a089762d1e5b",
   "metadata": {},
   "outputs": [],
   "source": [
    "# df_am=pd.read_csv(file_am,sep='\\t')\n",
    "%matplotlib inline\n",
    "# df_am\n",
    "# #topdeadLayer(mm)\tam(data/simulation)\tam(error)\tpb(data/simulation)\tpb(error)\n",
    "x=np.array(df_am['deadlayer(mm)']);y=np.array(df_am['am(data/sim)']);y_error=np.array(df_am['am(error)'])\n",
    "iso='Am-241';den=2.55\n",
    "\n",
    "title=fr'$20 \\times 10^{8}$ {iso} simulations at the Corner (bead density={den} $g/cm^3$ )'\n",
    "save=iso+'.pdf'\n",
    "\n",
    "create_plot_fit(x,y,y_error,title,save)"
   ]
  },
  {
   "cell_type": "code",
   "execution_count": null,
   "id": "73995040",
   "metadata": {},
   "outputs": [],
   "source": [
    "# x_top=np.array(df_pb['topDeadLayer(mm)'])\n",
    "# type(x_top)"
   ]
  },
  {
   "cell_type": "code",
   "execution_count": null,
   "id": "d0f6ae4d",
   "metadata": {},
   "outputs": [],
   "source": [
    "# import numpy as np\n",
    "# import matplotlib.pyplot as plt\n",
    "\n",
    "# # x = np.linspace(0,1,1000)\n",
    "# # f = 1/4\n",
    "\n",
    "# # sine = np.sin(2*np.pi*f*x) + np.random.normal(scale=0.1, size=len(x))\n",
    "# #plt.plot(x,y,'r.')\n",
    "\n",
    "# c,m = np.polynomial.polynomial.polyfit(x, y, deg=1)\n",
    "# # fig, ax = plt.subplots()\n",
    "# plt.plot(x,y,'r.')\n",
    "# # plt.plot(x,m*x+c,'b-')\n",
    "# # #ax.plot(sine, label='data')\n",
    "# # ax.plot(x,np.polyval(poly, x), 'b-',label='fit')\n",
    "# # ax.legend()\n",
    "# x=np.array(x);y=np.array(y)\n",
    "# type(x),type(m)\n",
    "# plt.plot(x,m*x+c,'b--',label=f'{c:0.2f}+{m:0.2f}x')\n",
    "\n",
    "# x1=round((1-c)/m,3)\n",
    "# plt.text(x1,1-0.002,f'({x1},{1})')\n",
    "# plt.legend()\n",
    "# # x1\n",
    "# x1"
   ]
  },
  {
   "cell_type": "code",
   "execution_count": null,
   "id": "380d0224-34b7-448d-a979-d96d3e9dfbdc",
   "metadata": {},
   "outputs": [],
   "source": [
    "df_co=pd.read_csv(file_co,sep='\\t')\\\n",
    ".sort_values(by='deadlayer(mm)')\\\n",
    ".reset_index(drop=True)\n",
    "\n",
    "df_co"
   ]
  },
  {
   "cell_type": "markdown",
   "id": "95a765e3-144d-4f52-9f12-870cdcdcf149",
   "metadata": {},
   "source": [
    "# Am data/simulation from the combined density $1.68\\;g/cm^3$"
   ]
  },
  {
   "cell_type": "code",
   "execution_count": null,
   "id": "223435aa-11ec-4662-ba94-4188b1196f79",
   "metadata": {},
   "outputs": [],
   "source": [
    "x=df_co['deadlayer(mm)'];y=df_co['am(data/sim)'];y_error=df_co['am(error)']\n",
    "x=np.array(x);y=np.array(y);y_error=np.array(y_error)\n",
    "iso='Am-241';den=1.68\n",
    "title=fr'$20 \\times 10^{8}$ {iso} simulations at the Corner (bead density={den} $g/cm^3$ )'\n",
    "save=iso+'com.pdf'\n",
    "\n",
    "\n",
    "create_plot_fit(x,y,y_error,title,save)\n"
   ]
  },
  {
   "cell_type": "markdown",
   "id": "787d2300-03cb-4e9a-9e07-bb6d7cb98e62",
   "metadata": {},
   "source": [
    "# Pb data/simulation from the combined density $1.68\\;g/cm^3$"
   ]
  },
  {
   "cell_type": "code",
   "execution_count": null,
   "id": "2f42bc1e-8cc3-40f2-91f5-33ca9fe5e960",
   "metadata": {},
   "outputs": [],
   "source": [
    "x=df_co['deadlayer(mm)'];y=df_co['pb(data/sim)'];y_error=df_co['pb(error)']\n",
    "x=np.array(x);y=np.array(y);y_error=np.array(y_error)\n",
    "iso='Pb-210';den=1.68\n",
    "title=fr'$20 \\times 10^{8}$ {iso} simulations at the Corner (bead density={den} $g/cm^3$ )'\n",
    "save=iso+'com.pdf'\n",
    "\n",
    "create_plot_fit(x,y,y_error,title,save)\n"
   ]
  },
  {
   "cell_type": "markdown",
   "id": "2c02a56f-cedd-4916-8d4e-6a863313726e",
   "metadata": {},
   "source": [
    "# Top Dead Layer: 0.08 mm\n",
    "- three bead densities: 1.22 $gm/cm^3$, 1.68 $gm/cm^3$, 2.55 $gm/cm^3$"
   ]
  },
  {
   "cell_type": "code",
   "execution_count": null,
   "id": "2d8d397d-79eb-4eab-bca8-740fdfc76efb",
   "metadata": {},
   "outputs": [],
   "source": [
    "def divide_column(x,sp='+/-'):\n",
    "    '''returns the two elements of a string spliting with sp'''\n",
    "    l=x.split(sp)\n",
    "    return l[0],l[1]"
   ]
  },
  {
   "cell_type": "code",
   "execution_count": null,
   "id": "e2be3281-203f-4133-a7ed-537aa0bc9733",
   "metadata": {},
   "outputs": [],
   "source": [
    "def change_df(df_1):\n",
    "    '''\n",
    "    change the given dataframe \n",
    "    '''\n",
    "    df_1['am']=df_1['am(data/sim)'].apply(lambda x:divide_column(x)[0])\n",
    "    df_1['am-error']=df_1['am(data/sim)'].apply(lambda x:divide_column(x)[1])\n",
    "    df_1['pb']=df_1['pb(data/sim)'].apply(lambda x:divide_column(x)[0])\n",
    "    df_1['pb-error']=df_1['pb(data/sim)'].apply(lambda x:divide_column(x)[1])\n",
    "    df_1=df_1.drop(['am(data/sim)','pb(data/sim)'],axis=1)\n",
    "    df_1.rename(columns={\"am\":\"am(data/sim)\",\"pb\":\"pb(data/sim)\"},inplace=True)\n",
    "    df_1=df_1.drop(['Unnamed: 2'],axis=1).sort_values(by='side_dead_layer(mm)').reset_index(drop=True)\n",
    "    return df_1\n",
    "    \n",
    "#df_1.rename(columns={\"am\":\"am(data/sim\"})"
   ]
  },
  {
   "cell_type": "code",
   "execution_count": null,
   "id": "52722125-24d8-4396-bdff-00ecb0496dc7",
   "metadata": {},
   "outputs": [],
   "source": [
    "# Three csv files\n",
    "file_1='corner_top0.08-1.22.csv'\n",
    "file_2='corner_top0.08-1.68.csv'\n",
    "file_3='corner_top0.08-2.55.csv'\n",
    "\n",
    "root='/home/thakur/simulation_analysis/{}'\n",
    "df_pb=pd.read_csv(root.format(file_1),sep='\\t',index_col=0)\n",
    "df_co=pd.read_csv(root.format(file_2),sep='\\t',index_col=0)\n",
    "df_am=pd.read_csv(root.format(file_3),sep='\\t',index_col=0)"
   ]
  },
  {
   "cell_type": "code",
   "execution_count": null,
   "id": "0eb35af5-fc5e-4f31-9140-b490d6c486b0",
   "metadata": {},
   "outputs": [],
   "source": [
    "df_pb=change_df(df_pb);df_co=change_df(df_co);df_am=change_df(df_am)"
   ]
  },
  {
   "cell_type": "code",
   "execution_count": null,
   "id": "8d2d129a-a6e8-4343-92c8-7862a87ddde9",
   "metadata": {},
   "outputs": [],
   "source": [
    "df_am"
   ]
  },
  {
   "cell_type": "code",
   "execution_count": null,
   "id": "b9943dce-1413-45d0-9853-0fe42e95fdaf",
   "metadata": {},
   "outputs": [],
   "source": [
    "df_pb\n"
   ]
  },
  {
   "cell_type": "code",
   "execution_count": null,
   "id": "7a6b2dc9-768c-4015-8bdd-d6b04a052add",
   "metadata": {},
   "outputs": [],
   "source": [
    "df_co"
   ]
  },
  {
   "cell_type": "code",
   "execution_count": null,
   "id": "858afa3b-2b49-4720-a08a-ee13fa4e8bf6",
   "metadata": {},
   "outputs": [],
   "source": []
  }
 ],
 "metadata": {
  "kernelspec": {
   "display_name": "Python 3 (ipykernel)",
   "language": "python",
   "name": "python3"
  },
  "language_info": {
   "codemirror_mode": {
    "name": "ipython",
    "version": 3
   },
   "file_extension": ".py",
   "mimetype": "text/x-python",
   "name": "python",
   "nbconvert_exporter": "python",
   "pygments_lexer": "ipython3",
   "version": "3.10.6"
  },
  "vscode": {
   "interpreter": {
    "hash": "916dbcbb3f70747c44a77c7bcd40155683ae19c65e1c03b4aa3499c5328201f1"
   }
  }
 },
 "nbformat": 4,
 "nbformat_minor": 5
}
