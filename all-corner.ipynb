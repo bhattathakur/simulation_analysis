{
 "cells": [
  {
   "cell_type": "code",
   "execution_count": null,
   "id": "f1fb049b-8b4d-4dc9-9e4b-9979c90ccb59",
   "metadata": {},
   "outputs": [],
   "source": [
    "import pandas as pd\n",
    "import matplotlib.pyplot as plt\n",
    "import numpy as np\n",
    "plt.style.use(['science','notebook','grid'])"
   ]
  },
  {
   "cell_type": "code",
   "execution_count": null,
   "id": "159b8f27",
   "metadata": {},
   "outputs": [],
   "source": [
    "pd.options.display.max_columns=500;pd.options.display.max_rows=500"
   ]
  },
  {
   "cell_type": "code",
   "execution_count": null,
   "id": "88682283-322f-4bbb-a7c3-3450b825d185",
   "metadata": {},
   "outputs": [],
   "source": [
    "! pwd\n"
   ]
  },
  {
   "cell_type": "code",
   "execution_count": null,
   "id": "6c9437d3-d66f-4924-aca7-84da902edb8d",
   "metadata": {},
   "outputs": [],
   "source": [
    "def divide_column(x,sp='+/-'):\n",
    "    '''returns the two elements of a string spliting with sp'''\n",
    "    l=x.split(sp)\n",
    "    return l[0],l[1]\n"
   ]
  },
  {
   "cell_type": "code",
   "execution_count": null,
   "id": "2e327257-9de9-47c6-ab37-226fcc870437",
   "metadata": {},
   "outputs": [],
   "source": [
    "def change_df(df_1):\n",
    "    '''\n",
    "    change the given dataframe \n",
    "    '''\n",
    "    df_1['am']=df_1['am(data/sim)'].apply(lambda x:divide_column(x)[0]).astype(float)\n",
    "    df_1['am-error']=df_1['am(data/sim)'].apply(lambda x:divide_column(x)[1]).astype(float)\n",
    "    df_1['pb']=df_1['pb(data/sim)'].apply(lambda x:divide_column(x)[0]).astype(float)\n",
    "    df_1['pb-error']=df_1['pb(data/sim)'].apply(lambda x:divide_column(x)[1]).astype(float)\n",
    "    df_1=df_1.drop(['am(data/sim)','pb(data/sim)'],axis=1)\n",
    "    df_1.rename(columns={\"am\":\"am(data/sim)\",\"pb\":\"pb(data/sim)\"},inplace=True)\n",
    "    \n",
    "    if 'Unnamed: 2' in list(df_1.columns):\n",
    "        df_1=df_1.drop(['Unnamed: 2'],axis=1).sort_values(by='side_dead_layer(mm)').reset_index(drop=True)\n",
    "    return df_1"
   ]
  },
  {
   "cell_type": "code",
   "execution_count": null,
   "id": "7fa55846-58b7-42f4-b539-32822ca9c8ae",
   "metadata": {},
   "outputs": [],
   "source": [
    "def my_plotter(ax, x, y,y_error, param_dict,lab,fit='c:'):\n",
    "    \"\"\"\n",
    "    A helper function to make a graph\n",
    "\n",
    "    Parameters\n",
    "    ----------\n",
    "    ax : Axes\n",
    "        The axes to draw to\n",
    "\n",
    "    data1 : array\n",
    "       The x data\n",
    "\n",
    "    data2 : array\n",
    "       The y data\n",
    "\n",
    "    param_dict : dict\n",
    "       Dictionary of keyword arguments to pass to ax.plot\n",
    "\n",
    "    Returns\n",
    "    -------\n",
    "    out : list\n",
    "        list of artists added\n",
    "    \"\"\"\n",
    "    out = ax.errorbar(x, y, y_error,**param_dict,label=lab)\n",
    "    c,m = np.polynomial.polynomial.polyfit(x, y, deg=1)\n",
    "    \n",
    "    #ax.plot(x,m*x+c,fit,label=f'{c:0.2f}+{m:0.2f}x',alpha=0.5)\n",
    "    x1=round((1-c)/m,3)\n",
    "    name=f'y={c:0.2f}+{m:0.2f}x'#=>({lab:}) [side dead= {x1} mm]'\n",
    "    ax.plot(x,m*x+c,fit,label=name,alpha=0.5)\n",
    "    #x1=round((1-c)/m,3)\n",
    "    ax.text(x1,1-0.002,f'({x1},{1})',rotation=90)\n",
    "    ax.set_xlabel('side_dead_layer [mm]')\n",
    "    ax.set_ylabel('data/simulation')\n",
    "    ax.axhline(y=1,color='g',linestyle='--',alpha=0.25)\n",
    "    ax.legend()\n",
    "    \n",
    "    return out"
   ]
  },
  {
   "cell_type": "markdown",
   "id": "bd7c3be3-fa64-4cc3-9463-dac8426bb163",
   "metadata": {},
   "source": [
    "# Corner simulation results for top dead layer of 0.0004 mm"
   ]
  },
  {
   "cell_type": "code",
   "execution_count": null,
   "id": "5f6eec0a-54b8-455c-8b67-d3088ec62f43",
   "metadata": {},
   "outputs": [],
   "source": [
    "root='/home/thakur/simulation_analysis/{}'\n",
    "\n",
    "f1_am='am241corner.csv'\n",
    "f1_pb='pb210corner.csv'\n",
    "f1_co='combinedcorner.csv'\n",
    "\n",
    "f2_am='corner_top0.08-2.55.csv'\n",
    "f2_pb='corner_top0.08-1.22.csv'\n",
    "f2_co='corner_top0.08-1.68.csv'\n",
    "\n",
    "f3_am='corner_top0.11-2.55.csv'\n",
    "f3_pb='corner_top0.11-1.22.csv'\n",
    "f3_co='corner_top0.11-1.68.csv'\n",
    "\n",
    "f4_am='corner_top0.03-2.55.csv'\n",
    "f4_pb='corner_top0.03-1.22.csv'\n",
    "f4_co='corner_top0.03-1.68.csv'"
   ]
  },
  {
   "cell_type": "code",
   "execution_count": null,
   "id": "0e524b0c-f2e1-4a0b-9a13-d89decdbd528",
   "metadata": {},
   "outputs": [],
   "source": [
    "\n",
    "df1_am=pd.read_csv(root.format(f1_am),sep='\\t')\\\n",
    ".sort_values(by='deadlayer(mm)')\\\n",
    ".reset_index(drop=True)\\\n",
    "#.rename({'deadlayer(mm)':'side_dead_layer(mm)','am(error)':'am-error'},axis=1,inplace=True)\n",
    "\n",
    "df1_am.rename({'deadlayer(mm)':'side_dead_layer(mm)','am(error)':'am-error','pb(error)':'pb-error'},axis=1,inplace=True)\n",
    "df1_am\n"
   ]
  },
  {
   "cell_type": "code",
   "execution_count": null,
   "id": "07f5c8ea-1226-4092-9ff2-e3c024062488",
   "metadata": {},
   "outputs": [],
   "source": [
    "\n",
    "df1_pb=pd.read_csv(root.format(f1_pb),sep='\\t')\\\n",
    ".sort_values(by='deadlayer(mm)')\\\n",
    ".reset_index(drop=True)\\\n",
    "#.rename({'deadlayer(mm)':'side_dead_layer(mm)','am(error)':'am-error'},axis=1,inplace=True)\n",
    "\n",
    "df1_pb.rename({'deadlayer(mm)':'side_dead_layer(mm)','am(error)':'am-error','pb(error)':'pb-error'},axis=1,inplace=True)\n",
    "df1_pb\n"
   ]
  },
  {
   "cell_type": "code",
   "execution_count": null,
   "id": "ebe1a3e8-b69b-40b9-9e7a-c6f776db9aff",
   "metadata": {},
   "outputs": [],
   "source": [
    "\n",
    "df1_co=pd.read_csv(root.format(f1_co),sep='\\t')\\\n",
    ".sort_values(by='deadlayer(mm)')\\\n",
    ".reset_index(drop=True)\\\n",
    "#.rename({'deadlayer(mm)':'side_dead_layer(mm)','am(error)':'am-error'},axis=1,inplace=True)\n",
    "\n",
    "df1_co.rename({'deadlayer(mm)':'side_dead_layer(mm)','am(error)':'am-error','pb(error)':'pb-error'},axis=1,inplace=True)\n",
    "df1_co\n"
   ]
  },
  {
   "cell_type": "code",
   "execution_count": null,
   "id": "926631b5-1797-4547-bd54-4b942e8ae8ab",
   "metadata": {},
   "outputs": [],
   "source": [
    "#df1_am"
   ]
  },
  {
   "cell_type": "code",
   "execution_count": null,
   "id": "3b154779-42c4-4e51-b137-14189dbd156b",
   "metadata": {},
   "outputs": [],
   "source": [
    "\n",
    "df2_am=pd.read_csv(root.format(f2_am),sep='\\t',index_col=0)\n",
    "#.sort_values(by='deadlayer(mm)')\\\n",
    "#.reset_index(drop=True)\n",
    "df2_am=change_df(df2_am)\n",
    "df2_am\n"
   ]
  },
  {
   "cell_type": "code",
   "execution_count": null,
   "id": "c28b293c-9adc-41ab-93c3-94c09d0a1924",
   "metadata": {},
   "outputs": [],
   "source": [
    "\n",
    "df2_pb=pd.read_csv(root.format(f2_pb),sep='\\t',index_col=0)\n",
    "#.sort_values(by='deadlayer(mm)')\\\n",
    "#.reset_index(drop=True)\n",
    "df2_pb=change_df(df2_pb)\n",
    "df2_pb\n"
   ]
  },
  {
   "cell_type": "code",
   "execution_count": null,
   "id": "28963228-d6dc-47b7-b58a-292385349f1c",
   "metadata": {},
   "outputs": [],
   "source": [
    "\n",
    "df2_co=pd.read_csv(root.format(f2_co),sep='\\t',index_col=0)\n",
    "#.sort_values(by='deadlayer(mm)')\\\n",
    "#.reset_index(drop=True)\n",
    "df2_co=change_df(df2_co)\n",
    "df2_co\n"
   ]
  },
  {
   "cell_type": "code",
   "execution_count": null,
   "id": "b4b5d7ac-1b98-4be9-aebf-2da4db7500c5",
   "metadata": {},
   "outputs": [],
   "source": [
    "df3_am=pd.read_csv(root.format(f3_am),sep='\\t',index_col=0)\n",
    "#.sort_values(by='deadlayer(mm)')\\\n",
    "#.reset_index(drop=True)\n",
    "df3_am=change_df(df3_am)\n",
    "df3_am"
   ]
  },
  {
   "cell_type": "code",
   "execution_count": null,
   "id": "aa74b696-449b-423f-9f6b-ea2a55192613",
   "metadata": {},
   "outputs": [],
   "source": [
    "df3_pb=pd.read_csv(root.format(f3_pb),sep='\\t',index_col=0)\n",
    "#.sort_values(by='deadlayer(mm)')\\\n",
    "#.reset_index(drop=True)\n",
    "df3_pb=change_df(df3_pb)\n",
    "df3_pb"
   ]
  },
  {
   "cell_type": "code",
   "execution_count": null,
   "id": "a19594b3-c601-46b2-9e92-6e9b71b18030",
   "metadata": {},
   "outputs": [],
   "source": [
    "df3_co=pd.read_csv(root.format(f3_co),sep='\\t',index_col=0)\n",
    "#.sort_values(by='deadlayer(mm)')\\\n",
    "#.reset_index(drop=True)\n",
    "df3_co=change_df(df3_co)\n",
    "df3_co"
   ]
  },
  {
   "cell_type": "code",
   "execution_count": null,
   "id": "29ccb376-38ee-468c-9cfd-7d2b3bbbd776",
   "metadata": {},
   "outputs": [],
   "source": [
    "df4_am=pd.read_csv(root.format(f4_am),sep='\\t',index_col=0)\n",
    "#.sort_values(by='deadlayer(mm)')\\\n",
    "#.reset_index(drop=True)\n",
    "df4_am=change_df(df4_am)\n",
    "df4_am"
   ]
  },
  {
   "cell_type": "code",
   "execution_count": null,
   "id": "263f5ac9-6e30-4d85-823d-8b7b0caf6a02",
   "metadata": {},
   "outputs": [],
   "source": [
    "df4_pb=pd.read_csv(root.format(f4_pb),sep='\\t',index_col=0)\n",
    "#.sort_values(by='deadlayer(mm)')\\\n",
    "#.reset_index(drop=True)\n",
    "df4_pb=change_df(df4_pb)\n",
    "df4_pb"
   ]
  },
  {
   "cell_type": "code",
   "execution_count": null,
   "id": "09006bcf-7408-45d4-970f-ad8a0dea4423",
   "metadata": {},
   "outputs": [],
   "source": [
    "df4_co=pd.read_csv(root.format(f4_co),sep='\\t',index_col=0)\n",
    "#.sort_values(by='deadlayer(mm)')\\\n",
    "#.reset_index(drop=True)\n",
    "df4_co=change_df(df4_co)\n",
    "df4_co"
   ]
  },
  {
   "cell_type": "code",
   "execution_count": null,
   "id": "047073f7-1f0d-4e9d-a3b0-970fff3ac0d0",
   "metadata": {},
   "outputs": [],
   "source": [
    "# #%matplotlib inline\n",
    "# dead='side_dead_layer(mm)'\n",
    "# sim='am(data/sim)'\n",
    "# err='am-error'\n",
    "# isotope='am'\n",
    "# def get_all_plots(dead,sim,err,isotope):\n",
    "#     '''\n",
    "#     returns all the plots for given isotope for different dead layer of top and varying side dead layer\n",
    "#     '''\n",
    "#     for i in range(1,5):\n",
    "#         df_name='df{}_{}'.format(i,isotope)\n",
    "#         'x{}'.format(i)=df_name[dead];'y{}'.format(i)=df_name[sim];'y{}error'.format(i)=df_name[err]\n",
    "#         print(f\"df_name: {df_name}\\n\")\n",
    "#     # x1=df1_am[dead];y1=df1_am[sim];y1error=df1_am[err]\n",
    "#     # x2=df2_am[dead];y2=df2_am[sim];y2error=df2_am[err]\n",
    "#     # x3=df3_am[dead];y3=df3_am[sim];y3error=df3_am[err]\n",
    "#     # x4=df4_am[dead];y4=df4_am[sim];y4error=df4_am[err]\n",
    "# #     fig, ax = plt.subplots(1, 1,figsize=(20,15))\n",
    "# #     my_plotter(ax,x1, y1, y1error, {'fmt': 'r.','ecolor':'r','markersize':'12'},'top dead:0.0004 mm',fit='r:')\n",
    "# #     my_plotter(ax,x2, y2, y2error, {'fmt': 'b.','ecolor':'b','markersize':'12'},'top dead:0.08 mm',fit='b:')\n",
    "# #     my_plotter(ax,x3, y3, y3error, {'fmt': 'g.','ecolor':'g','markersize':'12'},'top dead:0.11 mm',fit='g:')\n",
    "# #     my_plotter(ax,x4, y4, y4error, {'fmt': 'm.','ecolor':'m','markersize':'12'},'top dead:0.03 mm',fit='m:')\n",
    "# #     # my_plotter(ax, x_am_co, y_am_co,y_error_am_co, {'fmt': 'b.','ecolor':'r'},'am-1.68',fit='m:')\n",
    "\n",
    "# #     # my_plotter(ax, x_pb, y_pb,y_error_pb, {'fmt': 'g.','ecolor':'r'},'pb-1.22')\n",
    "# #     # my_plotter(ax, x_pb_co, y_pb_co,y_error_pb_co,{'fmt': 'g.','ecolor':'r'},'pb-1.68')\n",
    "# #     plt.title(fr'Am-241 Data/Simulation at corner position with varying side dead layer for various dead layer for bead denisty $2.55\\;g/cm^3$')\n",
    "# #     plt.savefig(\"amallcorner.pdf\",dpi=300)\n",
    "#     plt.show()"
   ]
  },
  {
   "cell_type": "markdown",
   "id": "dc1df0c7-9ca5-416f-a92e-bab8e991934d",
   "metadata": {},
   "source": [
    "# Am-241 at density 2.55 $g/cm^3$"
   ]
  },
  {
   "cell_type": "code",
   "execution_count": null,
   "id": "3ded2204-fb0b-425c-9d59-72263ab68029",
   "metadata": {},
   "outputs": [],
   "source": [
    "dead='side_dead_layer(mm)'\n",
    "sim='am(data/sim)'\n",
    "err='am-error'\n",
    "x1=df1_am[dead];y1=df1_am[sim];y1error=df1_am[err]\n",
    "x2=df2_am[dead];y2=df2_am[sim];y2error=df2_am[err]\n",
    "x3=df3_am[dead];y3=df3_am[sim];y3error=df3_am[err]\n",
    "x4=df4_am[dead];y4=df4_am[sim];y4error=df4_am[err]\n",
    "\n"
   ]
  },
  {
   "cell_type": "code",
   "execution_count": null,
   "id": "de68247e-4e6d-44df-83bb-8ba1cf83a0a8",
   "metadata": {},
   "outputs": [],
   "source": [
    "%matplotlib inline\n",
    "fig, ax = plt.subplots(1, 1,figsize=(20,15))\n",
    "my_plotter(ax,x1, y1, y1error, {'fmt': 'r.','ecolor':'r','markersize':'12'},'top_dead_layer:0.0004 mm (am)',fit='r--')\n",
    "my_plotter(ax,x2, y2, y2error, {'fmt': 'b.','ecolor':'b','markersize':'12'},'top_dead_layer:0.08 mm   (am)',fit='b-.')\n",
    "my_plotter(ax,x3, y3, y3error, {'fmt': 'g.','ecolor':'g','markersize':'12'},'top_dead_layer:0.11 mm   (am)',fit='g:')\n",
    "my_plotter(ax,x4, y4, y4error, {'fmt': 'm.','ecolor':'m','markersize':'12'},'top_dead_layer:0.03 mm   (am)',fit='m:')\n",
    "# my_plotter(ax, x_am_co, y_am_co,y_error_am_co, {'fmt': 'b.','ecolor':'r'},'am-1.68',fit='m:')\n",
    "\n",
    "# my_plotter(ax, x_pb, y_pb,y_error_pb, {'fmt': 'g.','ecolor':'r'},'pb-1.22')\n",
    "# my_plotter(ax, x_pb_co, y_pb_co,y_error_pb_co,{'fmt': 'g.','ecolor':'r'},'pb-1.68')\n",
    "plt.title(fr'Am-241 Data/Simulation at corner position with varying side dead layer for various dead layer for bead denisty $2.55\\;g/cm^3$')\n",
    "plt.savefig(\"amallcorner.pdf\",dpi=300)\n",
    "plt.show()"
   ]
  },
  {
   "cell_type": "markdown",
   "id": "ac45c7fb-6e2e-4d67-8661-128c9ea8d9cc",
   "metadata": {},
   "source": [
    "# Am-241 at density 1.68 $g/cm^3$"
   ]
  },
  {
   "cell_type": "code",
   "execution_count": null,
   "id": "b40df3b4-3974-45ff-b44b-134db52e8d8a",
   "metadata": {},
   "outputs": [],
   "source": [
    "dead='side_dead_layer(mm)'\n",
    "sim='am(data/sim)'\n",
    "err='am-error'\n",
    "x11=df1_co[dead];y11=df1_co[sim];y11error=df1_co[err]\n",
    "x22=df2_co[dead];y22=df2_co[sim];y22error=df2_co[err]\n",
    "x33=df3_co[dead];y33=df3_co[sim];y33error=df3_co[err]\n",
    "x44=df4_co[dead];y44=df4_co[sim];y44error=df4_co[err]\n",
    "\n"
   ]
  },
  {
   "cell_type": "code",
   "execution_count": null,
   "id": "9a4c0d24-8c1e-4b18-80f7-aa356ca92874",
   "metadata": {},
   "outputs": [],
   "source": [
    "%matplotlib inline\n",
    "fig, ax = plt.subplots(1, 1,figsize=(20,15))\n",
    "my_plotter(ax,x11, y11, y11error, {'fmt': 'r.','ecolor':'r','markersize':'12'},'top dead:0.0004 mm',fit='r:')\n",
    "my_plotter(ax,x22, y22, y22error, {'fmt': 'b.','ecolor':'b','markersize':'12'},'top dead:0.08 mm',fit='b:')\n",
    "my_plotter(ax,x33, y33, y33error, {'fmt': 'g.','ecolor':'g','markersize':'12'},'top dead:0.11 mm',fit='g:')\n",
    "my_plotter(ax,x44, y44, y44error, {'fmt': 'm.','ecolor':'m','markersize':'12'},'top dead:0.03 mm',fit='m:')\n",
    "# my_plotter(ax, x_am_co, y_am_co,y_error_am_co, {'fmt': 'b.','ecolor':'r'},'am-1.68',fit='m:')\n",
    "\n",
    "# my_plotter(ax, x_pb, y_pb,y_error_pb, {'fmt': 'g.','ecolor':'r'},'pb-1.22')\n",
    "# my_plotter(ax, x_pb_co, y_pb_co,y_error_pb_co,{'fmt': 'g.','ecolor':'r'},'pb-1.68')\n",
    "plt.title(fr'Am-210 Data/Simulation at corner position with varying side dead layer for various dead layer bead density $1.68\\;g/cm^3$')\n",
    "plt.savefig(\"coamallcorner.pdf\",dpi=300)\n",
    "plt.show()"
   ]
  },
  {
   "cell_type": "markdown",
   "id": "e5117c40-a1e2-4626-a2f4-955255e495b2",
   "metadata": {},
   "source": [
    "# pb-210 at density 1.22 $g/cm^3$"
   ]
  },
  {
   "cell_type": "code",
   "execution_count": null,
   "id": "91b77f43-217b-4a21-8c21-880d72e18e2d",
   "metadata": {},
   "outputs": [],
   "source": [
    "dead='side_dead_layer(mm)'\n",
    "sim='pb(data/sim)'\n",
    "err='pb-error'\n",
    "x111=df1_pb[dead];y111=df1_pb[sim];y111error=df1_pb[err]\n",
    "x222=df2_pb[dead];y222=df2_pb[sim];y222error=df2_pb[err]\n",
    "x333=df3_pb[dead];y333=df3_pb[sim];y333error=df3_pb[err]\n",
    "x444=df4_pb[dead];y444=df4_pb[sim];y444error=df4_pb[err]\n",
    "\n"
   ]
  },
  {
   "cell_type": "code",
   "execution_count": null,
   "id": "afecc302-00e6-4eff-aedf-31e6cd6e6552",
   "metadata": {},
   "outputs": [],
   "source": [
    "%matplotlib inline\n",
    "fig, ax = plt.subplots(1, 1,figsize=(20,15))\n",
    "my_plotter(ax,x111, y111, y111error, {'fmt': 'r.','ecolor':'r','markersize':'12'},'top dead:0.0004 mm',fit='r:')\n",
    "my_plotter(ax,x222, y222, y222error, {'fmt': 'b.','ecolor':'b','markersize':'12'},'top dead:0.08 mm',fit='b:')\n",
    "my_plotter(ax,x333, y333, y333error, {'fmt': 'g.','ecolor':'g','markersize':'12'},'top dead:0.11 mm',fit='g:')\n",
    "my_plotter(ax,x444, y444, y444error, {'fmt': 'm.','ecolor':'m','markersize':'12'},'top dead:0.03 mm',fit='m:')\n",
    "# my_plotter(ax, x_am_co, y_am_co,y_error_am_co, {'fmt': 'b.','ecolor':'r'},'am-1.68',fit='m:')\n",
    "\n",
    "# my_plotter(ax, x_pb, y_pb,y_error_pb, {'fmt': 'g.','ecolor':'r'},'pb-1.22')\n",
    "# my_plotter(ax, x_pb_co, y_pb_co,y_error_pb_co,{'fmt': 'g.','ecolor':'r'},'pb-1.68')\n",
    "plt.title(fr'Pb-210 Data/Simulation at corner position with varying side dead layer for various dead layer for bead density $1.22\\;g/cm^3$')\n",
    "plt.savefig(\"pballcorner.pdf\",dpi=300)\n",
    "plt.show()"
   ]
  },
  {
   "cell_type": "markdown",
   "id": "bfff3be5-e9c9-4cb2-b647-caebc6720f23",
   "metadata": {},
   "source": [
    "# pb-210 at density 1.68 $g/cm^3$"
   ]
  },
  {
   "cell_type": "code",
   "execution_count": null,
   "id": "e027947d-e1cd-4f85-b564-1f02c20aac2e",
   "metadata": {},
   "outputs": [],
   "source": [
    "dead='side_dead_layer(mm)'\n",
    "sim='pb(data/sim)'\n",
    "err='pb-error'\n",
    "x1111=df1_co[dead];y1111=df1_co[sim];y1111error=df1_co[err]\n",
    "x2222=df2_co[dead];y2222=df2_co[sim];y2222error=df2_co[err]\n",
    "x3333=df3_co[dead];y3333=df3_co[sim];y3333error=df3_co[err]\n",
    "x4444=df4_co[dead];y4444=df4_co[sim];y4444error=df4_co[err]\n",
    "\n"
   ]
  },
  {
   "cell_type": "code",
   "execution_count": null,
   "id": "f8eab59b-e536-42a3-a404-31285200ab68",
   "metadata": {},
   "outputs": [],
   "source": [
    "%matplotlib inline\n",
    "fig, ax = plt.subplots(1, 1,figsize=(20,15))\n",
    "my_plotter(ax,x1111, y1111, y1111error, {'fmt': 'r.','ecolor':'r','markersize':'12'},'top dead:0.0004 mm',fit='r:')\n",
    "my_plotter(ax,x2222, y2222, y2222error, {'fmt': 'b.','ecolor':'b','markersize':'12'},'top dead:0.08 mm',fit='b:')\n",
    "my_plotter(ax,x3333, y3333, y3333error, {'fmt': 'g.','ecolor':'g','markersize':'12'},'top dead:0.11 mm',fit='g:')\n",
    "my_plotter(ax,x4444, y4444, y4444error, {'fmt': 'm.','ecolor':'m','markersize':'12'},'top dead:0.03 mm',fit='m:')\n",
    "# my_plotter(ax, x_am_co, y_am_co,y_error_am_co, {'fmt': 'b.','ecolor':'r'},'am-1.68',fit='m:')\n",
    "\n",
    "# my_plotter(ax, x_pb, y_pb,y_error_pb, {'fmt': 'g.','ecolor':'r'},'pb-1.22')\n",
    "# my_plotter(ax, x_pb_co, y_pb_co,y_error_pb_co,{'fmt': 'g.','ecolor':'r'},'pb-1.68')\n",
    "plt.title(fr'Pb-210 Data/Simulation at corner position with varying side dead layer for various dead layer for bead density $1.68\\;g/cm^3$')\n",
    "plt.savefig(\"pballcorner.pdf\",dpi=300)\n",
    "plt.show()"
   ]
  },
  {
   "cell_type": "code",
   "execution_count": null,
   "id": "dfd1b0ec-34dc-41e6-8071-9a7ad118bb33",
   "metadata": {},
   "outputs": [],
   "source": [
    "%matplotlib inline\n",
    "fig, ax = plt.subplots(1, 1,figsize=(20,15))\n",
    "\n",
    "#my_plotter(ax,x111, y111, y111error, {'fmt': 'r.','ecolor':'r','markersize':'12','marker':'s'},'pb-top dead:0.0004 mm',fit='r:')\n",
    "my_plotter(ax,x222, y222, y222error, {'fmt': 'b.','ecolor':'b','markersize':'12','marker':'s'},'pb-top dead:0.08 mm',fit='b:')\n",
    "my_plotter(ax,x333, y333, y333error, {'fmt': 'g.','ecolor':'g','markersize':'12','marker':'s'},'pb-top dead:0.11 mm',fit='g-.')\n",
    "my_plotter(ax,x3333, y3333, y3333error, {'fmt': 'm.','ecolor':'m','markersize':'12','marker':'s'},'pb-top dead:0.03 mm',fit='m--')\n",
    "\n",
    "#my_plotter(ax,x1, y1, y1error, {'fmt': 'r.','ecolor':'r','markersize':'14'},'am-top dead:0.0004 mm',fit='r:')\n",
    "my_plotter(ax,x2, y2, y2error, {'fmt': 'b.','ecolor':'g','markersize':'14'},'am-top dead:0.08 mm',fit='b:')\n",
    "my_plotter(ax,x3, y3, y3error, {'fmt': 'g.','ecolor':'g','markersize':'14'},'am-top dead:0.11 mm',fit='g-.')\n",
    "my_plotter(ax,x4, y4, y4error, {'fmt': 'm.','ecolor':'m','markersize':'14'},'am-top dead:0.03 mm',fit='m--')\n",
    "# my_plotter(ax, x_am_co, y_am_co,y_error_am_co, {'fmt': 'b.','ecolor':'r'},'am-1.68',fit='m:')\n",
    "\n",
    "# my_plotter(ax, x_pb, y_pb,y_error_pb, {'fmt': 'g.','ecolor':'r'},'pb-1.22')\n",
    "# my_plotter(ax, x_pb_co, y_pb_co,y_error_pb_co,{'fmt': 'g.','ecolor':'r'},'pb-1.68')\n",
    "plt.title(fr'Pb-210 & Am-241 Data/Simulation at corner position with varying side dead layer for various dead layer for bead density $1.22\\;g/cm^3$ (pb) & $2.55\\;g/cm^3$ (am)')\n",
    "\n",
    "plt.savefig(\"ampballcorner.pdf\",dpi=300)\n",
    "plt.show()"
   ]
  },
  {
   "cell_type": "markdown",
   "id": "4c3cb7de-1682-4a9b-877a-658daf8d7193",
   "metadata": {},
   "source": [
    "# STOP"
   ]
  },
  {
   "cell_type": "code",
   "execution_count": null,
   "id": "7264d3a7-2797-457f-8fa6-4d37e9e4fef2",
   "metadata": {},
   "outputs": [],
   "source": [
    "%matplotlib qt\n",
    "fig, ax = plt.subplots(1, 1,figsize=(20,15))\n",
    "my_plotter(ax, x_am, y_am,y_error_am, {'fmt': 'b.','ecolor':'r'},'am-2.55',fit='m:')\n",
    "my_plotter(ax, x_am_co, y_am_co,y_error_am_co, {'fmt': 'b.','ecolor':'r'},'am-1.68',fit='m:')\n",
    "\n",
    "my_plotter(ax, x_pb, y_pb,y_error_pb, {'fmt': 'g.','ecolor':'r'},'pb-1.22')\n",
    "my_plotter(ax, x_pb_co, y_pb_co,y_error_pb_co,{'fmt': 'g.','ecolor':'r'},'pb-1.68')\n",
    "plt.title('Data/Simulation with varying side dead layer for Corner Positon with top dead layer 0.0004 mm')\n",
    "plt.savefig(\"corner-side0.0004.pdf\",dpi=300)"
   ]
  },
  {
   "cell_type": "code",
   "execution_count": null,
   "id": "0090b13c-6655-435a-a987-9c37deda381c",
   "metadata": {},
   "outputs": [],
   "source": [
    "# ax=df1_am.plot(x='side_dead_layer(mm)',y='am(data/sim)',label='top:0.0004 mm')\n",
    "# df2_am.plot(x='side_dead_layer(mm)',y='am(data/sim)',ax=ax,label='top:0.08 mm')\n",
    "# df3_am.plot(x='side_dead_layer(mm)',y='am(data/sim)',ax=ax,label='top:0.11 mm')\n",
    "# ax.set_title('Am-241 ')\n",
    "# plt.show()"
   ]
  },
  {
   "cell_type": "code",
   "execution_count": null,
   "id": "7bd5de07-4acc-45d3-8d4e-083703e6cd67",
   "metadata": {},
   "outputs": [],
   "source": []
  },
  {
   "cell_type": "code",
   "execution_count": null,
   "id": "790aa7f5-fbe8-4f8a-be5a-15fe8c406383",
   "metadata": {},
   "outputs": [],
   "source": [
    "\n",
    "\n",
    "def create_plot(x,y,y_error,title,save_name):\n",
    "    fig,ax=plt.subplots(figsize=(15,10))\n",
    "    ax.errorbar(x,y,y_error,fmt='b.',ecolor='r')\n",
    "    ax.set_xlabel('side_dead_layer [mm]')\n",
    "    ax.set_ylabel('data/simulation')\n",
    "    ax.axhline(y=1,color='g',linestyle='--',alpha=0.5)\n",
    "    ax.set_title(title)\n",
    "    plt.savefig(save_name)\n",
    "    plt.show()\n",
    "#create_plot(x,y,y_error,title,'test')"
   ]
  },
  {
   "cell_type": "code",
   "execution_count": null,
   "id": "06e666ff",
   "metadata": {},
   "outputs": [],
   "source": [
    "#create a function\n",
    "# x=df['topDeadLayer(mm)'];y=df['pb-210-data/simulation'];y_error=df['pb-error']\n",
    "# iso='Pb-210';den=1.22\n",
    "# title=fr'$20 \\times 10^{8}$ {iso} simulations at the Door (density={den} $g/cm^3$ )'\n",
    "#print(title)\n",
    "\n",
    "def create_plot_fit(x,y,y_error,title,save_name):\n",
    "    fig,ax=plt.subplots(figsize=(15,10))\n",
    "    ax.errorbar(x,y,y_error,fmt='b.',ecolor='r')\n",
    "    ax.set_xlabel('side_dead_layer [mm]')\n",
    "    ax.set_ylabel('data/simulation')\n",
    "    ax.axhline(y=1,color='g',linestyle='-',alpha=0.25)\n",
    "\n",
    "    #best fit line\n",
    "    c,m = np.polynomial.polynomial.polyfit(x, y, deg=1)\n",
    "    \n",
    "    ax.plot(x,m*x+c,'c:',label=f'{c:0.2f}+{m:0.2f}x',alpha=0.5)\n",
    "\n",
    "    x1=round((1-c)/m,3)\n",
    "    ax.text(x1,1-0.002,f'({x1},{1})')\n",
    "    ax.legend()\n",
    "    \n",
    "    ax.set_title(title)\n",
    "    plt.savefig(save_name)\n",
    "    plt.show()\n"
   ]
  },
  {
   "cell_type": "code",
   "execution_count": null,
   "id": "97e53809-40bb-41bb-9287-9d7466577b61",
   "metadata": {},
   "outputs": [],
   "source": [
    "#create a function\n",
    "# x=df['topDeadLayer(mm)'];y=df['pb-210-data/simulation'];y_error=df['pb-error']\n",
    "# iso='Pb-210';den=1.22\n",
    "# title=fr'$20 \\times 10^{8}$ {iso} simulations at the Door (density={den} $g/cm^3$ )'\n",
    "#print(title)\n",
    "\n",
    "def return_plot_fit(x,y,y_error):\n",
    "    fig,ax=plt.subplots(figsize=(15,10))\n",
    "    ax.errorbar(x,y,y_error,fmt='b.',ecolor='r')\n",
    "    ax.set_xlabel('side_dead_layer [mm]')\n",
    "    ax.set_ylabel('data/simulation')\n",
    "    ax.axhline(y=1,color='g',linestyle='-',alpha=0.25)\n",
    "\n",
    "    #best fit line\n",
    "    c,m = np.polynomial.polynomial.polyfit(x, y, deg=1)\n",
    "    \n",
    "    ax.plot(x,m*x+c,'c:',label=f'{c:0.2f}+{m:0.2f}x',alpha=0.5)\n",
    "\n",
    "    x1=round((1-c)/m,3)\n",
    "    ax.text(x1,1-0.002,f'({x1},{1})')\n",
    "    ax.legend()\n",
    "    \n",
    "    #ax.set_title(title)\n",
    "    return ax\n",
    "    # plt.savefig(save_name)\n",
    "    # plt.show()\n"
   ]
  },
  {
   "cell_type": "markdown",
   "id": "d8d7eb77-150a-4880-a409-ccca8e930490",
   "metadata": {},
   "source": [
    "# Pb Corner data/simulation for density of 1.22 $g/cm^3$ for nearly 0 top dead layer"
   ]
  },
  {
   "cell_type": "code",
   "execution_count": null,
   "id": "9ddf59a6-8a63-4d8a-9111-387e408af60d",
   "metadata": {},
   "outputs": [],
   "source": [
    "df_pb=pd.read_csv(file_pb,sep='\\t')\\\n",
    ".sort_values(by='deadlayer(mm)')\\\n",
    ".reset_index(drop=True)\n",
    "df_pb"
   ]
  },
  {
   "cell_type": "code",
   "execution_count": null,
   "id": "65c9ea9b-2bba-4b5b-b201-4e7a30256bc4",
   "metadata": {},
   "outputs": [],
   "source": [
    "df_am=pd.read_csv(file_am,sep='\\t')\\\n",
    ".sort_values(by='deadlayer(mm)')\\\n",
    ".reset_index(drop=True)\n",
    "df_am"
   ]
  },
  {
   "cell_type": "code",
   "execution_count": null,
   "id": "d1e89e95-71a2-49e9-bbb2-701cc6d4abac",
   "metadata": {},
   "outputs": [],
   "source": [
    "df_co=pd.read_csv(file_co,sep='\\t')\\\n",
    ".sort_values(by='deadlayer(mm)')\\\n",
    ".reset_index(drop=True)\n",
    "df_co"
   ]
  },
  {
   "cell_type": "code",
   "execution_count": null,
   "id": "aae57872",
   "metadata": {},
   "outputs": [],
   "source": [
    "df_pb.columns"
   ]
  },
  {
   "cell_type": "code",
   "execution_count": null,
   "id": "b1862644",
   "metadata": {},
   "outputs": [],
   "source": [
    "# df_pb=df_pb.loc[df_pb['topDeadLayer(mm)']>0.008]\\\n",
    "# .loc[df_pb['topDeadLayer(mm)']!=0.010]\n",
    "# df_pb"
   ]
  },
  {
   "cell_type": "code",
   "execution_count": null,
   "id": "7aec9111-ecaa-4ca9-bd4a-d54e26b8cb2e",
   "metadata": {},
   "outputs": [],
   "source": [
    "x=np.array(df_pb['deadlayer(mm)']);y=np.array(df_pb['pb(data/sim)']);y_error=np.array(df_pb['pb(error)'])\n",
    "iso='Pb-210';den=1.22\n",
    "title=fr'$20 \\times 10^{8}$ {iso} simulations at the Corner (bead density={den} $g/cm^3$ and top dead layer 0.0004 mm)'\n",
    "save=iso+'.pdf'\n",
    "create_plot_fit(x,y,y_error,title,save)"
   ]
  },
  {
   "cell_type": "code",
   "execution_count": null,
   "id": "98a5f23e-82f0-4b27-b10c-59ac832bbe98",
   "metadata": {},
   "outputs": [],
   "source": [
    "#ax=return_plot_fit(x,y,y_error)\n",
    "\n",
    "#%matplotlib inline\n",
    "%matplotlib qt\n",
    "\n",
    "plt.figure(figsize=(40,30))\n",
    "a=0.25\n",
    "ch=0.1\n",
    "\n",
    "x=np.array(df_pb['deadlayer(mm)']);y=np.array(df_pb['pb(data/sim)']);y_error=np.array(df_pb['pb(error)'])\n",
    "plt.errorbar(x,y,y_error,fmt='r.',label='pb-1.22')\n",
    "\n",
    "c,m = np.polynomial.polynomial.polyfit(x, y, deg=1)\n",
    "plt.plot(x,m*x+c,'r--',label=f'{c:0.2f}+{m:0.2f}x',alpha=a)\n",
    "\n",
    "xe=round((1-c)/m,3)\n",
    "#plt.text(xe,1-1*ch,f'({xe},{1})')\n",
    "x=df_co['deadlayer(mm)'];y=df_co['pb(data/sim)'];y_error=df_co['pb(error)']\n",
    "\n",
    "plt.errorbar(x,y,y_error,fmt='c.',label='pb-1.68')\n",
    "\n",
    "c,m = np.polynomial.polynomial.polyfit(x, y, deg=1)\n",
    "plt.plot(x,m*x+c,'c--',label=f'{c:0.2f}+{m:0.2f}x',alpha=a)\n",
    "xe=round((1-c)/m,3)\n",
    "\n",
    "x=np.array(df_am['deadlayer(mm)']);y=np.array(df_am['am(data/sim)']);y_error=np.array(df_am['am(error)'])\n",
    "plt.errorbar(x,y,y_error,fmt='b.',label='am-2.55')\n",
    "\n",
    "c,m = np.polynomial.polynomial.polyfit(x, y, deg=1)\n",
    "plt.plot(x,m*x+c,'b--',label=f'{c:0.2f}+{m:0.2f}x',alpha=a)\n",
    "\n",
    "xe=round((1-c)/m,3)\n",
    "#plt.text(xe,1-2*ch,f'({xe},{1})')\n",
    "\n",
    "x=df_co['deadlayer(mm)'];y=df_co['am(data/sim)'];y_error=df_co['am(error)']\n",
    "plt.errorbar(x,y,y_error,fmt='g.',label='am-1.68')\n",
    "\n",
    "c,m = np.polynomial.polynomial.polyfit(x, y, deg=1)\n",
    "plt.plot(x,m*x+c,'g--',label=f'{c:0.2f}+{m:0.2f}x',alpha=a)\n",
    "\n",
    "xe=round((1-c)/m,3)\n",
    "#plt.text(xe,1-3*ch,f'({xe},{1})')\n",
    "\n",
    "\n",
    "#plt.text(xe,1-4*ch,f'({xe},{1})')\n",
    "\n",
    "#xe=round((1-c)/m,3)\n",
    "# plt.text(xe,1-0.002,f'({xe},{1})')\n",
    "# plt.errorbar(x1,y1,y1_error,fmt='b.',label='am-2.55')\n",
    "# plt.errorbar(x2,y2,y2_error,fmt='g.',label='am-1.68')\n",
    "# plt.errorbar(x3,y3,y3_error,fmt='m.',label='pb-1.68')\n",
    "plt.axhline(y=1,color='k',linestyle='--',alpha=0.25)\n",
    "\n",
    "plt.legend()\n",
    "# # iso='Am-241';den=2.55\n",
    "# iso='Pb-210';den=1.22\n",
    "title=r'$20 \\times 10^{8}$ simulations at the Corner for top dead layer of 0.0004 mm'\n",
    "x_label='side dead layer [mm]';y_label='data/simulation'\n",
    "plt.xlabel(x_label)\n",
    "plt.ylabel(y_label)\n",
    "plt.title(title)\n",
    "plt.savefig('combined_corner.pdf',dpi=300)\n",
    "# save=iso+'.pdf'\n",
    "\n",
    "# ax.plot(x,y,y_error)\n",
    "# ax.plot(x1,y1,y1_error)\n",
    "# plt.show()\n",
    "\n",
    "\n",
    "# # x1=np.array(df_am['deadlayer(mm)']);y1=np.array(df_am['am(data/sim)']);y1_error=np.array(df_am['am(error)'])\n",
    "# # iso='Am-241';den=2.55\n",
    "\n",
    "# # title=fr'$20 \\times 10^{8}$ {iso} simulations at the Corner (bead density={den} $g/cm^3$ )'\n",
    "# # save=iso+'.pdf'\n",
    "\n",
    "# # ax1=return_plot_fit(x1,y1,y1_error,title,save)"
   ]
  },
  {
   "cell_type": "code",
   "execution_count": null,
   "id": "f8ac451a",
   "metadata": {},
   "outputs": [],
   "source": [
    "df_am=pd.read_csv(file_am,sep='\\t')\\\n",
    ".sort_values(by='deadlayer(mm)')\\\n",
    ".reset_index(drop=True)\n",
    "\n",
    "df_am\n",
    "# # #topdeadLayer(mm)\tam(data/simulation)\tam(error)\tpb(data/simulation)\tpb(error)\n",
    "# x=np.array(df_am['deadlayer(mm)']);y=np.array(df_am['am(data/sim)']);y_error=np.array(df_am['am(error)'])\n",
    "# iso='Am-241';den=2.55\n",
    "\n",
    "# title=fr'$20 \\times 10^{8}$ {iso} simulations at the Door (bead density={den} $g/cm^3$ )'\n",
    "# save=iso+'.pdf'\n",
    "\n",
    "# create_plot_fit(x,y,y_error,title,save)"
   ]
  },
  {
   "cell_type": "code",
   "execution_count": null,
   "id": "2317b1fa-4a6a-433c-b2d6-a089762d1e5b",
   "metadata": {},
   "outputs": [],
   "source": [
    "# df_am=pd.read_csv(file_am,sep='\\t')\n",
    "%matplotlib inline\n",
    "# df_am\n",
    "# #topdeadLayer(mm)\tam(data/simulation)\tam(error)\tpb(data/simulation)\tpb(error)\n",
    "x=np.array(df_am['deadlayer(mm)']);y=np.array(df_am['am(data/sim)']);y_error=np.array(df_am['am(error)'])\n",
    "iso='Am-241';den=2.55\n",
    "\n",
    "title=fr'$20 \\times 10^{8}$ {iso} simulations at the Corner (bead density={den} $g/cm^3$ ) and top dead layer= 0.0004 mm'\n",
    "save=iso+'.pdf'\n",
    "\n",
    "create_plot_fit(x,y,y_error,title,save)"
   ]
  },
  {
   "cell_type": "code",
   "execution_count": null,
   "id": "73995040",
   "metadata": {},
   "outputs": [],
   "source": [
    "# x_top=np.array(df_pb['topDeadLayer(mm)'])\n",
    "# type(x_top)"
   ]
  },
  {
   "cell_type": "code",
   "execution_count": null,
   "id": "d0f6ae4d",
   "metadata": {},
   "outputs": [],
   "source": [
    "# import numpy as np\n",
    "# import matplotlib.pyplot as plt\n",
    "\n",
    "# # x = np.linspace(0,1,1000)\n",
    "# # f = 1/4\n",
    "\n",
    "# # sine = np.sin(2*np.pi*f*x) + np.random.normal(scale=0.1, size=len(x))\n",
    "# #plt.plot(x,y,'r.')\n",
    "\n",
    "# c,m = np.polynomial.polynomial.polyfit(x, y, deg=1)\n",
    "# # fig, ax = plt.subplots()\n",
    "# plt.plot(x,y,'r.')\n",
    "# # plt.plot(x,m*x+c,'b-')\n",
    "# # #ax.plot(sine, label='data')\n",
    "# # ax.plot(x,np.polyval(poly, x), 'b-',label='fit')\n",
    "# # ax.legend()\n",
    "# x=np.array(x);y=np.array(y)\n",
    "# type(x),type(m)\n",
    "# plt.plot(x,m*x+c,'b--',label=f'{c:0.2f}+{m:0.2f}x')\n",
    "\n",
    "# x1=round((1-c)/m,3)\n",
    "# plt.text(x1,1-0.002,f'({x1},{1})')\n",
    "# plt.legend()\n",
    "# # x1\n",
    "# x1"
   ]
  },
  {
   "cell_type": "code",
   "execution_count": null,
   "id": "380d0224-34b7-448d-a979-d96d3e9dfbdc",
   "metadata": {},
   "outputs": [],
   "source": [
    "df_co=pd.read_csv(file_co,sep='\\t')\\\n",
    ".sort_values(by='deadlayer(mm)')\\\n",
    ".reset_index(drop=True)\n",
    "\n",
    "df_co"
   ]
  },
  {
   "cell_type": "markdown",
   "id": "95a765e3-144d-4f52-9f12-870cdcdcf149",
   "metadata": {},
   "source": [
    "# Am data/simulation from the combined density $1.68\\;g/cm^3$"
   ]
  },
  {
   "cell_type": "code",
   "execution_count": null,
   "id": "223435aa-11ec-4662-ba94-4188b1196f79",
   "metadata": {},
   "outputs": [],
   "source": [
    "x=df_co['deadlayer(mm)'];y=df_co['am(data/sim)'];y_error=df_co['am(error)']\n",
    "x=np.array(x);y=np.array(y);y_error=np.array(y_error)\n",
    "iso='Am-241';den=1.68\n",
    "title=fr'$20 \\times 10^{8}$ {iso} simulations at the Corner (bead density={den} $g/cm^3$ )'\n",
    "save=iso+'com.pdf'\n",
    "\n",
    "\n",
    "create_plot_fit(x,y,y_error,title,save)\n"
   ]
  },
  {
   "cell_type": "markdown",
   "id": "787d2300-03cb-4e9a-9e07-bb6d7cb98e62",
   "metadata": {},
   "source": [
    "# Pb data/simulation from the combined density $1.68\\;g/cm^3$"
   ]
  },
  {
   "cell_type": "code",
   "execution_count": null,
   "id": "2f42bc1e-8cc3-40f2-91f5-33ca9fe5e960",
   "metadata": {},
   "outputs": [],
   "source": [
    "x=df_co['deadlayer(mm)'];y=df_co['pb(data/sim)'];y_error=df_co['pb(error)']\n",
    "x=np.array(x);y=np.array(y);y_error=np.array(y_error)\n",
    "iso='Pb-210';den=1.68\n",
    "title=fr'$20 \\times 10^{8}$ {iso} simulations at the Corner (bead density={den} $g/cm^3$ )'\n",
    "save=iso+'com.pdf'\n",
    "\n",
    "create_plot_fit(x,y,y_error,title,save)\n"
   ]
  },
  {
   "cell_type": "markdown",
   "id": "2c02a56f-cedd-4916-8d4e-6a863313726e",
   "metadata": {},
   "source": [
    "# Top Dead Layer: 0.08 mm\n",
    "- three bead densities: 1.22 $gm/cm^3$, 1.68 $gm/cm^3$, 2.55 $gm/cm^3$"
   ]
  },
  {
   "cell_type": "code",
   "execution_count": null,
   "id": "2d8d397d-79eb-4eab-bca8-740fdfc76efb",
   "metadata": {},
   "outputs": [],
   "source": [
    "def divide_column(x,sp='+/-'):\n",
    "    '''returns the two elements of a string spliting with sp'''\n",
    "    l=x.split(sp)\n",
    "    return l[0],l[1]"
   ]
  },
  {
   "cell_type": "code",
   "execution_count": null,
   "id": "e2be3281-203f-4133-a7ed-537aa0bc9733",
   "metadata": {},
   "outputs": [],
   "source": [
    "def change_df(df_1):\n",
    "    '''\n",
    "    change the given dataframe \n",
    "    '''\n",
    "    df_1['am']=df_1['am(data/sim)'].apply(lambda x:divide_column(x)[0])\n",
    "    df_1['am-error']=df_1['am(data/sim)'].apply(lambda x:divide_column(x)[1])\n",
    "    df_1['pb']=df_1['pb(data/sim)'].apply(lambda x:divide_column(x)[0])\n",
    "    df_1['pb-error']=df_1['pb(data/sim)'].apply(lambda x:divide_column(x)[1])\n",
    "    df_1=df_1.drop(['am(data/sim)','pb(data/sim)'],axis=1)\n",
    "    df_1.rename(columns={\"am\":\"am(data/sim)\",\"pb\":\"pb(data/sim)\"},inplace=True)\n",
    "    df_1=df_1.drop(['Unnamed: 2'],axis=1).sort_values(by='side_dead_layer(mm)').reset_index(drop=True)\n",
    "    return df_1\n",
    "    \n",
    "#df_1.rename(columns={\"am\":\"am(data/sim\"})"
   ]
  },
  {
   "cell_type": "code",
   "execution_count": null,
   "id": "52722125-24d8-4396-bdff-00ecb0496dc7",
   "metadata": {},
   "outputs": [],
   "source": [
    "# Three csv files\n",
    "file_1='corner_top0.08-1.22.csv'\n",
    "file_2='corner_top0.08-1.68.csv'\n",
    "file_3='corner_top0.08-2.55.csv'\n",
    "\n",
    "root='/home/thakur/simulation_analysis/{}'\n",
    "df_pb=pd.read_csv(root.format(file_1),sep='\\t',index_col=0)\n",
    "df_co=pd.read_csv(root.format(file_2),sep='\\t',index_col=0)\n",
    "df_am=pd.read_csv(root.format(file_3),sep='\\t',index_col=0)"
   ]
  },
  {
   "cell_type": "code",
   "execution_count": null,
   "id": "0eb35af5-fc5e-4f31-9140-b490d6c486b0",
   "metadata": {},
   "outputs": [],
   "source": [
    "df_pb=change_df(df_pb);df_co=change_df(df_co);df_am=change_df(df_am)"
   ]
  },
  {
   "cell_type": "code",
   "execution_count": null,
   "id": "8d2d129a-a6e8-4343-92c8-7862a87ddde9",
   "metadata": {},
   "outputs": [],
   "source": [
    "df_am"
   ]
  },
  {
   "cell_type": "code",
   "execution_count": null,
   "id": "5551e8fa-5efe-4495-bd75-6b1a118ebf62",
   "metadata": {},
   "outputs": [],
   "source": [
    "# df_am['am(data/sim)'].astype(float).dtypes"
   ]
  },
  {
   "cell_type": "code",
   "execution_count": null,
   "id": "dc99dbc3-aeb9-43c7-a9e5-cdfd5be1fa98",
   "metadata": {},
   "outputs": [],
   "source": [
    "# %matplotlib inline\n",
    "# # df_am\n",
    "# # #topdeadLayer(mm)\tam(data/simulation)\tam(error)\tpb(data/simulation)\tpb(error)\n",
    "# x=np.array(df_am['side_dead_layer(mm)']);y=np.array(df_am['am(data/sim)']);y_error=np.array(df_am['am-error'])\n",
    "# x,y,y_error\n",
    "# iso='Am-241';den=2.55;d=0.08\n",
    "\n",
    "# title=fr'$20 \\times 10^{8}$ {iso} simulations at the Corner (bead density={den} $g/cm^3 side dead layer {d} mm$ )'\n",
    "# #save=iso+'.pdf'\n",
    "\n",
    "# create_plot_fit(x,y,y_error,title,save)"
   ]
  },
  {
   "cell_type": "code",
   "execution_count": null,
   "id": "5c2fa1ff-04ef-424b-aee9-60dfe96882f8",
   "metadata": {},
   "outputs": [],
   "source": [
    "df_am.columns"
   ]
  },
  {
   "cell_type": "code",
   "execution_count": null,
   "id": "70dd20ee-0105-442e-8181-08c2b8ae1dc8",
   "metadata": {},
   "outputs": [],
   "source": [
    "x_am=df_am['side_dead_layer(mm)'].astype(float);y_am=df_am['am(data/sim)'].astype(float);y_error_am=df_am['am-error'].astype(float)\n",
    "x_am,y_am,y_error_am"
   ]
  },
  {
   "cell_type": "code",
   "execution_count": null,
   "id": "b9943dce-1413-45d0-9853-0fe42e95fdaf",
   "metadata": {},
   "outputs": [],
   "source": [
    "df_pb\n"
   ]
  },
  {
   "cell_type": "code",
   "execution_count": null,
   "id": "b74add18-efc3-4c14-ad15-803bc40117c0",
   "metadata": {},
   "outputs": [],
   "source": [
    "x_pb=df_pb['side_dead_layer(mm)'].astype(float);y_pb=df_pb['pb(data/sim)'].astype(float);y_error_pb=df_pb['pb-error'].astype(float)\n",
    "x_pb,y_pb,y_error_pb"
   ]
  },
  {
   "cell_type": "code",
   "execution_count": null,
   "id": "7a6b2dc9-768c-4015-8bdd-d6b04a052add",
   "metadata": {},
   "outputs": [],
   "source": [
    "df_co"
   ]
  },
  {
   "cell_type": "code",
   "execution_count": null,
   "id": "ecf5a452-f043-4f0a-825f-e4a494a4dbe3",
   "metadata": {},
   "outputs": [],
   "source": [
    "x_am_co=df_co['side_dead_layer(mm)'].astype(float);y_am_co=df_co['am(data/sim)'].astype(float);y_error_am_co=df_co['am-error'].astype(float)\n",
    "x_pb_co=df_co['side_dead_layer(mm)'].astype(float);y_pb_co=df_co['pb(data/sim)'].astype(float);y_error_pb_co=df_co['pb-error'].astype(float)"
   ]
  },
  {
   "cell_type": "code",
   "execution_count": null,
   "id": "858afa3b-2b49-4720-a08a-ee13fa4e8bf6",
   "metadata": {},
   "outputs": [],
   "source": [
    "def my_plotter(ax, x, y,y_error, param_dict,lab,fit='c:'):\n",
    "    \"\"\"\n",
    "    A helper function to make a graph\n",
    "\n",
    "    Parameters\n",
    "    ----------\n",
    "    ax : Axes\n",
    "        The axes to draw to\n",
    "\n",
    "    data1 : array\n",
    "       The x data\n",
    "\n",
    "    data2 : array\n",
    "       The y data\n",
    "\n",
    "    param_dict : dict\n",
    "       Dictionary of keyword arguments to pass to ax.plot\n",
    "\n",
    "    Returns\n",
    "    -------\n",
    "    out : list\n",
    "        list of artists added\n",
    "    \"\"\"\n",
    "    out = ax.errorbar(x, y, y_error,**param_dict)\n",
    "    c,m = np.polynomial.polynomial.polyfit(x, y, deg=1)\n",
    "    \n",
    "    #ax.plot(x,m*x+c,fit,label=f'{c:0.2f}+{m:0.2f}x',alpha=0.5)\n",
    "    x1=round((1-c)/m,3)\n",
    "    ax.plot(x,m*x+c,fit,label=f'{c:0.2f}+{m:0.2f}x=>({lab}) [d= {x1}]',alpha=0.5)\n",
    "    #x1=round((1-c)/m,3)\n",
    "    ax.text(x1,1-0.002,f'({x1},{1})',rotation=90)\n",
    "    ax.set_xlabel('side_dead_layer [mm]')\n",
    "    ax.set_ylabel('data/simulation')\n",
    "    ax.axhline(y=1,color='g',linestyle='-',alpha=0.25)\n",
    "    ax.legend()\n",
    "    \n",
    "    return out"
   ]
  },
  {
   "cell_type": "code",
   "execution_count": null,
   "id": "02c857a0-c4f7-4979-988d-f7916a5d0a4a",
   "metadata": {},
   "outputs": [],
   "source": [
    "def test_my_plotter(ax, x, y,y_error, param_dict,fit='c:'):\n",
    "    \"\"\"\n",
    "    A helper function to make a graph\n",
    "\n",
    "    Parameters\n",
    "    ----------\n",
    "    ax : Axes\n",
    "        The axes to draw to\n",
    "\n",
    "    data1 : array\n",
    "       The x data\n",
    "\n",
    "    data2 : array\n",
    "       The y data\n",
    "\n",
    "    param_dict : dict\n",
    "       Dictionary of keyword arguments to pass to ax.plot\n",
    "\n",
    "    Returns\n",
    "    -------\n",
    "    out : list\n",
    "        list of artists added\n",
    "    \"\"\"\n",
    "    x=np.array(x);y=np.array(y);y_error=np.array(y_error)\n",
    "    out = ax.errorbar(x, y, y_error,**param_dict)\n",
    "    c,m = np.polynomial.polynomial.polyfit(x, y, deg=1)\n",
    "    \n",
    "    ax.plot(x,m*x+c,fit,label=f'{c:0.2f}+{m:0.2f}x',alpha=0.5,fontweight='bold')\n",
    "    #ax.plot(x,m*x+c,fit,label=f'{c:0.2f}+{m:0.2f}x({label})',alpha=0.5)\n",
    "    x1=round((1-c)/m,3)\n",
    "    ax.text(x1,1-0.002,f'({x1},{1})')\n",
    "    ax.set_xlabel('side_dead_layer [mm]')\n",
    "    ax.set_ylabel('data/simulation')\n",
    "    ax.axhline(y=1,color='g',linestyle='-',alpha=0.25)\n",
    "    ax.legend()\n",
    "    \n",
    "    return out"
   ]
  },
  {
   "cell_type": "code",
   "execution_count": null,
   "id": "93c21745-49fb-4411-ad49-98488959adc5",
   "metadata": {},
   "outputs": [],
   "source": [
    "%matplotlib qt\n",
    "fig, ax = plt.subplots(1, 1,figsize=(20,15))\n",
    "my_plotter(ax, x_am, y_am,y_error_am, {'fmt': 'b.','ecolor':'r'},'am-2.55',fit='m:')\n",
    "my_plotter(ax, x_am_co, y_am_co,y_error_am_co, {'fmt': 'b.','ecolor':'r'},'am-1.68',fit='m:')\n",
    "\n",
    "my_plotter(ax, x_pb, y_pb,y_error_pb, {'fmt': 'g.','ecolor':'r'},'pb-1.22')\n",
    "my_plotter(ax, x_pb_co, y_pb_co,y_error_pb_co,{'fmt': 'g.','ecolor':'r'},'pb-1.68')\n",
    "plt.title('Data/Simulation with varying side dead layer for Corner Positon with top dead layer 0.08 mm')\n",
    "plt.savefig(\"corner-side0.08.pdf\",dpi=300)"
   ]
  },
  {
   "cell_type": "code",
   "execution_count": null,
   "id": "be0dec3e-b525-4236-b8fa-29cdd3eec93b",
   "metadata": {},
   "outputs": [],
   "source": [
    "def my_plotter1(ax, x, y,y_error, param_dict,fit='c:'):\n",
    "    \"\"\"\n",
    "    A helper function to make a graph\n",
    "\n",
    "    Parameters\n",
    "    ----------\n",
    "    ax : Axes\n",
    "        The axes to draw to\n",
    "\n",
    "    data1 : array\n",
    "       The x data\n",
    "\n",
    "    data2 : array\n",
    "       The y data\n",
    "\n",
    "    param_dict : dict\n",
    "       Dictionary of keyword arguments to pass to ax.plot\n",
    "\n",
    "    Returns\n",
    "    -------\n",
    "    out : list\n",
    "        list of artists added\n",
    "    \"\"\"\n",
    "    out = ax.errorbar(x, y, y_error,**param_dict)\n",
    "    c,m = np.polynomial.polynomial.polyfit(x, y, deg=1)\n",
    "    \n",
    "    ax.plot(x,m*x+c,fit,label=f'{c:0.2f}+{m:0.2f}x',alpha=0.5)\n",
    "    x1=round((1-c)/m,3)\n",
    "    ax.text(x1,1-0.002,f'({x1},{1})')\n",
    "    ax.set_xlabel('top_dead_layer [mm]')\n",
    "    ax.set_ylabel('data/simulation')\n",
    "    ax.axhline(y=1,color='g',linestyle='-',alpha=0.25)\n",
    "    ax.legend()\n",
    "    \n",
    "    return out"
   ]
  },
  {
   "cell_type": "code",
   "execution_count": null,
   "id": "c8ff20e4-3f46-45e8-9afe-8363f576b92a",
   "metadata": {},
   "outputs": [],
   "source": [
    "# x_am=np.array(x_am);y_am=np.array(y_am);y_error_am=np.array(y_error_am)\n",
    "# my_plotter1(ax, x_am, y_am,y_error_am, {'fmt': 'b.','ecolor':'r'},fit='m:')"
   ]
  },
  {
   "cell_type": "markdown",
   "id": "5172b5e1-6f84-4299-912e-779c6160ef63",
   "metadata": {},
   "source": [
    "# top dead layer = 0.11 mm"
   ]
  },
  {
   "cell_type": "code",
   "execution_count": null,
   "id": "1e32327a-1b3c-48b8-ae85-c0374e662e03",
   "metadata": {},
   "outputs": [],
   "source": [
    "file_1='corner_top0.11-1.22.csv'\n",
    "file_2='corner_top0.11-1.68.csv'\n",
    "file_3='corner_top0.11-2.55.csv'\n",
    "\n",
    "root='/home/thakur/simulation_analysis/{}'\n",
    "df_pb=pd.read_csv(root.format(file_1),sep='\\t',index_col=0)\n",
    "df_co=pd.read_csv(root.format(file_2),sep='\\t',index_col=0)\n",
    "df_am=pd.read_csv(root.format(file_3),sep='\\t',index_col=0)"
   ]
  },
  {
   "cell_type": "code",
   "execution_count": null,
   "id": "9ff6c9ba-458a-4328-a93e-d0ed6193b3d5",
   "metadata": {},
   "outputs": [],
   "source": [
    "df_pb=change_df(df_pb);df_co=change_df(df_co);df_am=change_df(df_am)"
   ]
  },
  {
   "cell_type": "code",
   "execution_count": null,
   "id": "c720f303-6a48-429f-b978-dbfd958f848c",
   "metadata": {},
   "outputs": [],
   "source": [
    "df_am"
   ]
  },
  {
   "cell_type": "code",
   "execution_count": null,
   "id": "ef465a6b-102c-49f8-8a2d-c8fee4b52c86",
   "metadata": {},
   "outputs": [],
   "source": [
    "\n",
    "x_am=df_am['side_dead_layer(mm)'].astype(float);y_am=df_am['am(data/sim)'].astype(float);y_error_am=df_am['am-error'].astype(float)\n",
    "x_am,y_am,y_error_am"
   ]
  },
  {
   "cell_type": "code",
   "execution_count": null,
   "id": "de10c279-926f-4e94-a524-769e26b2cb52",
   "metadata": {},
   "outputs": [],
   "source": [
    "df_pb"
   ]
  },
  {
   "cell_type": "code",
   "execution_count": null,
   "id": "e0995525-0bca-48a7-802c-c3c0ac3a9da7",
   "metadata": {},
   "outputs": [],
   "source": [
    "x_pb=df_pb['side_dead_layer(mm)'].astype(float);y_pb=df_pb['pb(data/sim)'].astype(float);y_error_pb=df_pb['pb-error'].astype(float)\n",
    "x_pb,y_pb,y_error_pb"
   ]
  },
  {
   "cell_type": "code",
   "execution_count": null,
   "id": "949e132a-5412-4252-b463-ad5e1c263f3a",
   "metadata": {},
   "outputs": [],
   "source": [
    "df_co"
   ]
  },
  {
   "cell_type": "code",
   "execution_count": null,
   "id": "e5fca3f5-c753-40fe-af1a-f38dba623445",
   "metadata": {},
   "outputs": [],
   "source": [
    "x_am_co=df_co['side_dead_layer(mm)'].astype(float);y_am_co=df_co['am(data/sim)'].astype(float);y_error_am_co=df_co['am-error'].astype(float)\n",
    "x_pb_co=df_co['side_dead_layer(mm)'].astype(float);y_pb_co=df_co['pb(data/sim)'].astype(float);y_error_pb_co=df_co['pb-error'].astype(float)"
   ]
  },
  {
   "cell_type": "code",
   "execution_count": null,
   "id": "81e61a2f-58ef-4a1a-98e9-50f1d419c79a",
   "metadata": {},
   "outputs": [],
   "source": [
    "%matplotlib qt\n",
    "fig, ax = plt.subplots(1, 1,figsize=(20,15))\n",
    "my_plotter(ax, x_am, y_am,y_error_am, {'fmt': 'b.','ecolor':'r'},'am-2.55',fit='m:')\n",
    "my_plotter(ax, x_am_co, y_am_co,y_error_am_co, {'fmt': 'b.','ecolor':'r'},'am-1.68',fit='m:')\n",
    "\n",
    "my_plotter(ax, x_pb, y_pb,y_error_pb, {'fmt': 'g.','ecolor':'r'},'pb-1.22')\n",
    "my_plotter(ax, x_pb_co, y_pb_co,y_error_pb_co,{'fmt': 'g.','ecolor':'r'},'pb-1.68')\n",
    "plt.title('Data/Simulation with varying side dead layer for Corner Positon with top dead layer 0.11 mm')\n",
    "plt.savefig(\"corner-side0.11.pdf\",dpi=300)"
   ]
  },
  {
   "cell_type": "markdown",
   "id": "6c3ebdb2-925d-42ca-b73d-138b4aab2644",
   "metadata": {},
   "source": [
    "# top dead layer ~ 0 mm"
   ]
  },
  {
   "cell_type": "code",
   "execution_count": null,
   "id": "0f399ee6-3bd2-47c8-839c-16b6b73d4132",
   "metadata": {},
   "outputs": [],
   "source": [
    "root='/home/thakur/simulation_analysis/'\n",
    "file_am=root+'am241corner.csv'\n",
    "file_pb=root+'pb210corner.csv'\n",
    "file_co=root+'combinedcorner.csv'"
   ]
  },
  {
   "cell_type": "code",
   "execution_count": null,
   "id": "562254a6-1bb6-417e-878f-347e283fd6d8",
   "metadata": {},
   "outputs": [],
   "source": [
    "df_am=pd.read_csv(file_am,sep='\\t')\\\n",
    ".sort_values(by='deadlayer(mm)')\\\n",
    ".reset_index(drop=True)\n",
    "df_am"
   ]
  },
  {
   "cell_type": "code",
   "execution_count": null,
   "id": "c493eca1-cbca-452e-925b-eb938c262984",
   "metadata": {},
   "outputs": [],
   "source": [
    "\n",
    "x_am=df_am['deadlayer(mm)'].astype(float);y_am=df_am['am(data/sim)'].astype(float);y_error_am=df_am['am(error)'].astype(float)\n",
    "x_am,y_am,y_error_am"
   ]
  },
  {
   "cell_type": "code",
   "execution_count": null,
   "id": "2e310c1a-c44e-43c1-91af-dcf140d48f15",
   "metadata": {},
   "outputs": [],
   "source": [
    "df_pb=pd.read_csv(file_pb,sep='\\t')\\\n",
    ".sort_values(by='deadlayer(mm)')\\\n",
    ".reset_index(drop=True)\n",
    "df_pb"
   ]
  },
  {
   "cell_type": "code",
   "execution_count": null,
   "id": "59d337c7-9b33-4603-99d1-dbd8610b9f04",
   "metadata": {},
   "outputs": [],
   "source": [
    "x_pb=df_pb['deadlayer(mm)'].astype(float);y_pb=df_pb['pb(data/sim)'].astype(float);y_error_pb=df_pb['pb(error)'].astype(float)\n",
    "x_pb,y_pb,y_error_pb"
   ]
  },
  {
   "cell_type": "code",
   "execution_count": null,
   "id": "c1537cb2-7dbf-4bbe-bd9e-8fe7ababc3ac",
   "metadata": {},
   "outputs": [],
   "source": [
    "df_co=pd.read_csv(file_co,sep='\\t')\\\n",
    ".sort_values(by='deadlayer(mm)')\\\n",
    ".reset_index(drop=True)\n",
    "df_co"
   ]
  },
  {
   "cell_type": "code",
   "execution_count": null,
   "id": "45bebf0d-7bf6-47bc-a2da-4efa886ef530",
   "metadata": {},
   "outputs": [],
   "source": [
    "x_am_co=df_co['deadlayer(mm)'].astype(float);y_am_co=df_co['am(data/sim)'].astype(float);y_error_am_co=df_co['am(error)'].astype(float)\n",
    "x_pb_co=df_co['deadlayer(mm)'].astype(float);y_pb_co=df_co['pb(data/sim)'].astype(float);y_error_pb_co=df_co['pb(error)'].astype(float)"
   ]
  },
  {
   "cell_type": "code",
   "execution_count": null,
   "id": "09d20cf6-8630-47ef-93ba-2372958b36db",
   "metadata": {},
   "outputs": [],
   "source": []
  },
  {
   "cell_type": "code",
   "execution_count": null,
   "id": "cfd4313a-e4d7-4243-a54a-4cc8bd909aa2",
   "metadata": {},
   "outputs": [],
   "source": [
    "%matplotlib qt\n",
    "fig, ax = plt.subplots(1, 1,figsize=(20,15))\n",
    "my_plotter(ax, x_am, y_am,y_error_am, {'fmt': 'b.','ecolor':'r'},'am-2.55',fit='m:')\n",
    "my_plotter(ax, x_am_co, y_am_co,y_error_am_co, {'fmt': 'b.','ecolor':'r'},'am-1.68',fit='m:')\n",
    "\n",
    "my_plotter(ax, x_pb, y_pb,y_error_pb, {'fmt': 'g.','ecolor':'r'},'pb-1.22')\n",
    "my_plotter(ax, x_pb_co, y_pb_co,y_error_pb_co,{'fmt': 'g.','ecolor':'r'},'pb-1.68')\n",
    "plt.title('Data/Simulation with varying side dead layer for Corner Positon with top dead layer 0.0004 mm')\n",
    "plt.savefig(\"corner-side0.0004.pdf\",dpi=300)"
   ]
  },
  {
   "cell_type": "code",
   "execution_count": null,
   "id": "8d16a5b7-03be-4909-9264-73718e41e976",
   "metadata": {},
   "outputs": [],
   "source": [
    "import pandas as pd "
   ]
  },
  {
   "cell_type": "code",
   "execution_count": null,
   "id": "e90df437-4079-4e1e-b8b8-875d3050cbed",
   "metadata": {},
   "outputs": [],
   "source": [
    "r='/home/thakur/simulation_analysis/{}'\n",
    "file='corner_top0.0004-1.22.csv'"
   ]
  },
  {
   "cell_type": "code",
   "execution_count": null,
   "id": "3cb833b0-2651-42f4-a217-21c5e3739cdf",
   "metadata": {},
   "outputs": [],
   "source": [
    "df=pd.read_csv(r.format(file),sep='\\t')"
   ]
  },
  {
   "cell_type": "code",
   "execution_count": null,
   "id": "5e44e151-5f2b-4860-9f77-9246635bf20a",
   "metadata": {},
   "outputs": [],
   "source": [
    "df=df.sort_values(by='deadlayer(mm)')"
   ]
  },
  {
   "cell_type": "code",
   "execution_count": null,
   "id": "9eb94d3c-33ae-4382-bd0a-28a35e832373",
   "metadata": {},
   "outputs": [],
   "source": [
    "df.insert(0,'S.N',range(1,14))"
   ]
  },
  {
   "cell_type": "code",
   "execution_count": null,
   "id": "9ce1effb-a881-48b1-80ed-bc947b5c964a",
   "metadata": {},
   "outputs": [],
   "source": [
    "df"
   ]
  },
  {
   "cell_type": "code",
   "execution_count": null,
   "id": "7f396b76-b358-44ce-bf4c-4565541d2286",
   "metadata": {},
   "outputs": [],
   "source": [
    "df['am(data/sim)']=df['am(data/sim)'].asdtype(str)+\"+-\"+df['am(error)'].asdtype(str)"
   ]
  },
  {
   "cell_type": "code",
   "execution_count": null,
   "id": "0e8bd374-7866-45ad-9018-00a60951427a",
   "metadata": {},
   "outputs": [],
   "source": []
  }
 ],
 "metadata": {
  "kernelspec": {
   "display_name": "Python 3 (ipykernel)",
   "language": "python",
   "name": "python3"
  },
  "language_info": {
   "codemirror_mode": {
    "name": "ipython",
    "version": 3
   },
   "file_extension": ".py",
   "mimetype": "text/x-python",
   "name": "python",
   "nbconvert_exporter": "python",
   "pygments_lexer": "ipython3",
   "version": "3.10.6"
  },
  "vscode": {
   "interpreter": {
    "hash": "916dbcbb3f70747c44a77c7bcd40155683ae19c65e1c03b4aa3499c5328201f1"
   }
  }
 },
 "nbformat": 4,
 "nbformat_minor": 5
}
