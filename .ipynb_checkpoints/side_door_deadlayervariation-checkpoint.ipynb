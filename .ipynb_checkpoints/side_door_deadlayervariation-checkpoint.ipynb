{
 "cells": [
  {
   "cell_type": "code",
   "execution_count": null,
   "metadata": {},
   "outputs": [],
   "source": [
    "import matplotlib.pyplot as plt\n",
    "import numpy as np\n",
    "import pandas as pd\n",
    "%matplotlib inline\n",
    "#%matplotlib qt"
   ]
  },
  {
   "cell_type": "code",
   "execution_count": null,
   "metadata": {},
   "outputs": [],
   "source": [
    "df=pd.read_csv('corner_deadlayer_radius_ra226.csv')\n",
    "df"
   ]
  },
  {
   "cell_type": "code",
   "execution_count": null,
   "metadata": {},
   "outputs": [],
   "source": [
    "df.plot(x='SideDeadLayer',y='Chi^2',color='g',marker='o',style=\"--\",kind='line',title=r'$\\chi^{2}$ against the Side Dead Layer for ra226')\n",
    "plt.xlabel(\"SideDeadLayer (mm)\")\n",
    "plt.ylabel(r\"$\\chi^{2}$\")\n",
    "plt.xlim(0.6,1.7)\n",
    "plt.savefig('sidechi.pdf',dpi=300)\n",
    "\n",
    "\n",
    "df.plot('SideDeadLayer','mean',color='r',marker='o',style=\"--\")\n",
    "plt.xlabel(\"SideDeadLayer (mm)\")\n",
    "plt.ylabel(\"mean (p0)\")\n",
    "plt.title(\"mean (p0) against side dead layer for ra226\")\n",
    "plt.xlim(0.6,1.7)\n",
    "plt.savefig('sidemean.pdf',dpi=300)"
   ]
  },
  {
   "cell_type": "code",
   "execution_count": null,
   "metadata": {},
   "outputs": [],
   "source": [
    "df1=pd.read_csv('door_deadlayer_radius_ra226.csv')\n",
    "df1"
   ]
  },
  {
   "cell_type": "code",
   "execution_count": null,
   "metadata": {},
   "outputs": [],
   "source": [
    "df1.plot('topDeadLayer','Chi^2',color='k',marker='o',style=\"--\")#ylabel='test')#r'$\\chi^{2}$')\n",
    "plt.xlabel('topDeadLayer (mm)')\n",
    "plt.ylabel(r'$\\chi^{2}$')\n",
    "plt.title(r'$\\chi^{2}$ vs top dead layer for ra226' )\n",
    "plt.xlim(-0.2,2.1)\n",
    "plt.savefig('topchi.pdf',dpi=300)\n",
    "\n",
    "df1.plot('topDeadLayer','mean',color='b',marker='o',style=\"--\")\n",
    "plt.xlabel('topDeadLayer (mm)')\n",
    "plt.ylabel('mean (p0)')\n",
    "plt.title(r\"mean $p0$ vs top dead layer for ra226\" )\n",
    "plt.xlim(-0.2,2.1)\n",
    "plt.savefig('topmean.pdf',dpi=300)\n",
    "#plt.savefig(\"test1.pdf\")"
   ]
  },
  {
   "cell_type": "code",
   "execution_count": null,
   "metadata": {},
   "outputs": [],
   "source": [
    "# fig,axs=plt.subplots(2,2)\n",
    "# axs[0,0]=df.plot(x='SideDeadLayer',y='Chi^2',color='g',marker='o',style=\"--\",kind='line',title=r'$\\chi^{2}$ against the Side Dead Layer for ra226')\n",
    "# plt.xlabel(\"SideDeadLayer (mm)\")\n",
    "# plt.ylabel(r\"$\\chi^{2}$\")\n"
   ]
  },
  {
   "cell_type": "code",
   "execution_count": null,
   "metadata": {},
   "outputs": [],
   "source": []
  }
 ],
 "metadata": {
  "kernelspec": {
   "display_name": "Python 3",
   "language": "python",
   "name": "python3"
  },
  "language_info": {
   "codemirror_mode": {
    "name": "ipython",
    "version": 3
   },
   "file_extension": ".py",
   "mimetype": "text/x-python",
   "name": "python",
   "nbconvert_exporter": "python",
   "pygments_lexer": "ipython3",
   "version": "3.8.10"
  }
 },
 "nbformat": 4,
 "nbformat_minor": 4
}
