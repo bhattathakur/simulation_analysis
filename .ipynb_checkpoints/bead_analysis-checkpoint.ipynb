{
 "cells": [
  {
   "cell_type": "code",
   "execution_count": null,
   "id": "aaa1278e-bba3-4318-8deb-3a918b37eeb5",
   "metadata": {},
   "outputs": [],
   "source": [
    "import numpy as np\n",
    "import pandas as pd\n",
    "import matplotlib.pyplot as plt\n",
    "from mpl_toolkits import mplot3d\n",
    "\n"
   ]
  },
  {
   "cell_type": "code",
   "execution_count": null,
   "id": "2038bc89-c577-48f6-9ab2-a7f504547149",
   "metadata": {},
   "outputs": [],
   "source": [
    "trials=100_00_00     #total simulated events\n",
    "low=-1;high=1;interval=high-low\n",
    "test=interval*np.random.rand(trials,3)+low\n",
    "#test\n",
    "x=test[:,0]\n",
    "y=test[:,1]\n",
    "z=test[:,2]"
   ]
  },
  {
   "cell_type": "code",
   "execution_count": null,
   "id": "bebe4af8-7052-4957-a7f0-9a7627704363",
   "metadata": {},
   "outputs": [],
   "source": [
    "x"
   ]
  },
  {
   "cell_type": "code",
   "execution_count": null,
   "id": "5bd1dc24-23f9-466a-9301-18e1061414b2",
   "metadata": {},
   "outputs": [],
   "source": [
    "y"
   ]
  },
  {
   "cell_type": "code",
   "execution_count": null,
   "id": "435076d9-bc59-488d-a2f8-448c6750bb7b",
   "metadata": {},
   "outputs": [],
   "source": [
    "z"
   ]
  },
  {
   "cell_type": "code",
   "execution_count": null,
   "id": "f6d91c01-c2de-4040-9019-c2914e31302b",
   "metadata": {},
   "outputs": [],
   "source": [
    "\n",
    "r=np.sqrt(x**2+y**2+z**2)\n",
    "r"
   ]
  },
  {
   "cell_type": "code",
   "execution_count": null,
   "id": "101ef693-886a-48f3-aca5-a754d95b4932",
   "metadata": {},
   "outputs": [],
   "source": [
    "test=np.column_stack((test,r))"
   ]
  },
  {
   "cell_type": "code",
   "execution_count": null,
   "id": "3dc9bc9b-2c4e-4de6-9f37-a28f18645210",
   "metadata": {},
   "outputs": [],
   "source": [
    "df=pd.DataFrame(test,columns=['x','y','z','r']) #data frame with x,y,z and r\n",
    "df.head()"
   ]
  },
  {
   "cell_type": "code",
   "execution_count": null,
   "id": "7cb0f7e2-aab6-4739-897b-b16ce5f6f20b",
   "metadata": {},
   "outputs": [],
   "source": [
    "df_less=df[df.r<0.5]          #data frame with r<0.5 (radius of the bead)\n",
    "df_less.head()\n",
    "total_counts=df_less.shape[0]\n",
    "total_counts"
   ]
  },
  {
   "cell_type": "code",
   "execution_count": null,
   "id": "1480da98-6945-4c19-8ca0-e4c5c7049f5f",
   "metadata": {},
   "outputs": [],
   "source": [
    "%matplotlib inline\n",
    "df_sample=df_less.head(1000)\n",
    "fig = plt.figure()\n",
    "ax = fig.add_subplot(projection='3d')\n",
    "ax.scatter(df_sample.x,df_sample.y,df_sample.z)"
   ]
  },
  {
   "cell_type": "code",
   "execution_count": null,
   "id": "b3c5478d-71a0-41a8-8620-0640684ca499",
   "metadata": {},
   "outputs": [],
   "source": [
    "#this function give the normal distance from a point to the surface of the sphere\n",
    "\n",
    "def get_upward_distance(x,y,z,dz=0.001,r=0.5):\n",
    "    '''\n",
    "    returns normal distance from a point in the sphere to the surface as well as the z co-ordinate in the sphere\n",
    "    '''\n",
    "    #z=np.abs(z)\n",
    "    d=np.sqrt(x**2+y**2+z**2)\n",
    "    if z==-0.5: return 1.0,0.5 #z_up, z\n",
    "    z_up=0\n",
    "    #print(f\"before while z_up: {z_up}\")\n",
    "    while(d<r):\n",
    "        z+=dz\n",
    "        #print(f\"Inside while z: {z}\")\n",
    "        z_up+=dz\n",
    "        d=np.sqrt(x**2+y**2+z**2)\n",
    "    #print(f\"after while z_up: {z_up}\")\n",
    "    return z_up,z\n",
    "        \n",
    "    "
   ]
  },
  {
   "cell_type": "code",
   "execution_count": null,
   "id": "b679617f-38b0-4edd-872d-c2f580dbdd28",
   "metadata": {},
   "outputs": [],
   "source": [
    "%%time\n",
    "#distance travelled in the bead\n",
    "df_less_copy=df_less.copy()\n",
    "\n",
    "df_less_copy.loc[:,'z_new']=df_less_copy.apply(lambda x:get_upward_distance(x['x'],x['y'],x['z'])[1],axis=1)\n",
    "df_less_copy.loc[:,'d_bead']=df_less_copy.apply(lambda x:get_upward_distance(x['x'],x['y'],x['z'])[0],axis=1)\n",
    "df_less_copy.head()"
   ]
  },
  {
   "cell_type": "code",
   "execution_count": null,
   "id": "bec985d5-4823-4d84-a748-4df1086b496b",
   "metadata": {},
   "outputs": [],
   "source": [
    "#distance travelled in the button\n",
    "button_thickness=3.0\n",
    "df_less_copy.loc[:,'d_button']=button_thickness/2.-df_less_copy.loc[:,'z_new'] #Thickness of button is 3 mm and thickness above 0 is 1.5 mm\n",
    "df_less_copy.head()"
   ]
  },
  {
   "cell_type": "code",
   "execution_count": null,
   "id": "c69432b9-cdbc-496f-984a-e2e8aff7093a",
   "metadata": {},
   "outputs": [],
   "source": [
    "#changing mm to cm\n",
    "mm_to_cm=0.1\n",
    "df_less_copy=df_less_copy*mm_to_cm\n",
    "df_less_copy.head()"
   ]
  },
  {
   "cell_type": "markdown",
   "id": "53223297-a21d-4b97-ae6c-686a80f4131f",
   "metadata": {},
   "source": [
    "$ P_{transmission} = e^{-\\frac{x}{\\lambda}} $ <br>\n",
    "\n",
    "x is thickness and $\\lambda$ is attenuation length\n",
    "<br> $\\lambda = \\frac{1}{\\rho \\cdot \\mu} $ <br>\n",
    "$ P_{transmission} = e^{-\\mu \\cdot \\rho \\cdot x} $ <br>\n",
    "\n",
    "$ \\mu $ ($cm^2/g$) <br> $ \\rho $ ($g/cm^3$) <br> $\\lambda (cm)$ <br>\n",
    "$ \\mu$ from https://physics.nist.gov/PhysRefData/Xcom/html/xcom1.html\n",
    "<br>\n",
    "Tranmission factor from: https://www.ezag.com/home/products/isotope_products/isotrak_calibration_sources/reference_sources/gamma_sources/point_sources/#c601"
   ]
  },
  {
   "cell_type": "markdown",
   "id": "2cefd469-e336-4214-b9c2-94e03bfce5e1",
   "metadata": {},
   "source": [
    "# fMaterialsManager->AddMaterial(\"Acrylic\",\"C5-H8-O2\",1.18*g/cm3,\"\")\n",
    "# ceramic: O7410-Na300-Ca60-Mg10-Al600-Si1600-Pb4\n"
   ]
  },
  {
   "cell_type": "markdown",
   "id": "e3102f3f-22b3-4e86-b095-55f69cb95be1",
   "metadata": {},
   "source": [
    "![image](beadcomposition.png)"
   ]
  },
  {
   "cell_type": "code",
   "execution_count": null,
   "id": "dd79593e-e9ed-4ba1-92a6-641848b2de03",
   "metadata": {},
   "outputs": [],
   "source": [
    "#Probabality of scatering from the button\n",
    "\n",
    "button_density = 1.10         #.18        #g/cm^3 (from simulation data)\n",
    "#button_mu_pb   = 0.1976       #C5H8O2 for 47keV (0.047 MeV) gamma rays\n",
    "bead_mu_pb     = 3.195E-01    #47 keV pb-21O for ceramic=> O7410Na300Ca60Mg10Al600Si1600Pb4\n",
    "bead_mu_am     = 2.314E-01    #60 keV am-241 for ceramic=> O7410Na300Ca60Mg10Al600Si1600Pb4\n",
    "\n",
    "button_mu_pb =    1.797E-01     #C870O98N32\n",
    "button_mu_am =    1.669E-01     #60 keV Am-241\n",
    "\n",
    "\n",
    "\n",
    "#trnasmission factors from manufacturer\n",
    "transmission_pb=0.964   #47 keV pb-210\n",
    "\n",
    "transmission_am=0.958   #60 keV am-241\n",
    "\n",
    "#Am-241 0.958\n",
    "\n",
    "\n",
    "#button_mu_am=0.1815    #60 keV am-241\n",
    "#lambda calculation for acrylic button  (C5H802)\n",
    "#fMaterialsManager->AddMaterial(\"Acrylic\",\"C5-H8-O2\",1.18*g/cm3,\"\");\n",
    "#density is from oldmc\n",
    "\n",
    "\n",
    "\n",
    "\n",
    "def transmission_prob(x,mu,rho):\n",
    "    '''reutrns button transmission probability'''\n",
    "    #return (1-np.exp(-1.0*x*mu*rho))\n",
    "    return (np.exp(-1.0*x*mu*rho))\n",
    "\n",
    "    \n",
    "    \n",
    "    "
   ]
  },
  {
   "cell_type": "code",
   "execution_count": null,
   "id": "e7378abf-f859-431e-886f-86f0a01353b4",
   "metadata": {},
   "outputs": [],
   "source": [
    "#adding the transmississin though button\n",
    "df_less_copy.loc[:,'button_transmission_prob_pb']=df_less_copy.apply(lambda x:transmission_prob(x['d_button'],button_mu_pb,button_density),axis=1)\n",
    "df_less_copy.loc[:,'button_transmission_prob_am']=df_less_copy.apply(lambda x:transmission_prob(x['d_button'],button_mu_am,button_density),axis=1)\n",
    "df_less_copy.head()"
   ]
  },
  {
   "cell_type": "code",
   "execution_count": null,
   "id": "5eff401b-035b-46c7-b259-b876b2a7be62",
   "metadata": {},
   "outputs": [],
   "source": [
    "#creating the random number bewteen 0 and 1, if the prob_product is greater than random number add 1 else add 0\n",
    "def random_assign(x):\n",
    "    if x>np.random.rand():\n",
    "        return 1\n",
    "    return 0\n",
    "    "
   ]
  },
  {
   "cell_type": "code",
   "execution_count": null,
   "id": "f5e8e01e-2143-49cb-bc5a-afd93e18c5af",
   "metadata": {},
   "outputs": [],
   "source": [
    "#adding the transmississin though button\n",
    "bead_density=2.55#g/cm^3  \n",
    "df_less_copy.loc[:,'bead_transmission_prob_pb']=df_less_copy.apply(lambda x:transmission_prob(x['d_bead'],bead_mu_pb,bead_density),axis=1)\n",
    "df_less_copy.loc[:,'bead_transmission_prob_am']=df_less_copy.apply(lambda x:transmission_prob(x['d_bead'],bead_mu_am,bead_density),axis=1)\n",
    "df_less_copy.head()"
   ]
  },
  {
   "cell_type": "code",
   "execution_count": null,
   "id": "cf2fcad5-a409-4e3c-9738-e308fb6dffe4",
   "metadata": {},
   "outputs": [],
   "source": [
    "N_generated=df_less.shape[0]\n",
    "#df_less['N_emitted']=df_less['button_transmission_prob']*df_less['bead_transmission_prob']*N_generated\n",
    "df_less_copy['prob_product_pb']=df_less_copy['button_transmission_prob_pb']*df_less_copy['bead_transmission_prob_pb']\n",
    "df_less_copy['prob_product_am']=df_less_copy['button_transmission_prob_am']*df_less_copy['bead_transmission_prob_am']\n",
    "df_less_copy.head()"
   ]
  },
  {
   "cell_type": "code",
   "execution_count": null,
   "id": "afd6845d-d741-4509-934c-d718321d0e1a",
   "metadata": {},
   "outputs": [],
   "source": [
    "#avg_of_prob_pb=round(df_less['prob_product_pb'].mean(),3)\n",
    "avg_of_prob_am=round(df_less_copy['prob_product_am'].mean(),3)\n",
    "avg_of_prob_am"
   ]
  },
  {
   "cell_type": "code",
   "execution_count": null,
   "id": "3fec806f-d699-4744-b637-93a3c266335d",
   "metadata": {},
   "outputs": [],
   "source": [
    "avg_random=round(df_less_copy['prob_product_am'].apply(lambda x:random_assign(x)).mean(),3)\n",
    "avg_random"
   ]
  },
  {
   "cell_type": "code",
   "execution_count": null,
   "id": "dcbf78b9-fc53-4f4a-a73d-61513958e116",
   "metadata": {},
   "outputs": [],
   "source": [
    "def get_prob_am(bead_density):\n",
    "    '''\n",
    "    returns the net prob of transmission for the chosen density of bead for am-241\n",
    "    '''\n",
    "    df_less_copy['bead_transmission_prob_am']=df_less_copy.apply(lambda x:transmission_prob(x['d_bead'],bead_mu_am,bead_density),axis=1)\n",
    "    df_less_copy['prob_product_am']=df_less_copy['button_transmission_prob_am']*df_less_copy['bead_transmission_prob_am']\n",
    "    #avg_prob_am=round(df_less_copy['prob_product_am'].mean(),7)\n",
    "    avg_prob_am=df_less_copy['prob_product_am'].mean()\n",
    "    return [bead_density,avg_prob_am]\n",
    "\n",
    "def get_prob_pb(bead_density):\n",
    "    '''\n",
    "    returns the net prob of transmission for the chosen density of bead for pb-210\n",
    "    '''\n",
    "    df_less_copy['bead_transmission_prob_pb']=df_less_copy.apply(lambda x:transmission_prob(x['d_bead'],bead_mu_pb,bead_density),axis=1)\n",
    "    df_less_copy['prob_product_pb']=df_less_copy['button_transmission_prob_pb']*df_less_copy['bead_transmission_prob_pb']\n",
    "    #avg_prob_am=round(df_less_copy['prob_product_pb'].mean(),7)\n",
    "    avg_prob_am=df_less_copy['prob_product_pb'].mean()\n",
    "    return [bead_density,avg_prob_am]"
   ]
  },
  {
   "cell_type": "code",
   "execution_count": null,
   "id": "668c493d-40a5-48ff-9add-b2cd251a4f4d",
   "metadata": {},
   "outputs": [],
   "source": [
    "print(f\"Prob of am {transmission_am}\\n\")\n",
    "density_prob_am=[]\n",
    "for i in np.linspace(0,5,50):\n",
    "    test=get_prob_am(i)\n",
    "    density_prob_am.append(test)\n",
    "    print(f\"test :{test}\")\n",
    "#df_less.head()\n",
    "    "
   ]
  },
  {
   "cell_type": "code",
   "execution_count": null,
   "id": "fb55fd34-72fe-45a6-999e-4e06aaf35ae2",
   "metadata": {},
   "outputs": [],
   "source": [
    "print(f\"Prob of pb {transmission_pb}\\n\")\n",
    "density_prob_pb=[]\n",
    "for i in np.linspace(0,5,50):\n",
    "    test=get_prob_pb(i)\n",
    "    density_prob_pb.append(test)\n",
    "    print(f\"test :{test}\")\n",
    "#df_less.head()\n",
    "    "
   ]
  },
  {
   "cell_type": "code",
   "execution_count": null,
   "id": "b10494be-0e8a-4a71-9b85-c8c8b5411911",
   "metadata": {},
   "outputs": [],
   "source": [
    "density_prob_am"
   ]
  },
  {
   "cell_type": "code",
   "execution_count": null,
   "id": "82b38492-f03e-44b8-9ffa-1501ebdfd3e8",
   "metadata": {},
   "outputs": [],
   "source": [
    "density_prob_pb"
   ]
  },
  {
   "cell_type": "code",
   "execution_count": null,
   "id": "89b58913-8dd8-46a8-8bb1-f539a68e9315",
   "metadata": {},
   "outputs": [],
   "source": [
    "#adding the columns to the single\n",
    "transmission_pb=0.964   #47 keV pb-210\n",
    "\n",
    "transmission_am=0.958   #60 keV am-241\n",
    "all_densities=np.column_stack((density_prob_am,density_prob_pb))\n",
    "columns=[\"density\",\"am-prob\",\"pb-prob\"]\n",
    "df_den=pd.DataFrame(all_densities[:,[0,1,3]],columns=columns)\n",
    "df_den[\"am(0.958)-diff\"]=df_den[\"am-prob\"]-transmission_am\n",
    "df_den[\"pb(0.964)-diff\"]=df_den[\"pb-prob\"]-transmission_pb\n",
    "df_den[\"diff-sum\"]=df_den[\"am(0.958)-diff\"].abs()+df_den[\"pb(0.964)-diff\"].abs()\n",
    "df_den[\"diff-sum-quad\"]=df_den[\"am(0.958)-diff\"]**2+df_den[\"pb(0.964)-diff\"]**2\n",
    "#df_den=df_den.round(12)\n",
    "df_den.to_csv(\"combined_densities.csv\",index=False)\n",
    "df_den"
   ]
  },
  {
   "cell_type": "code",
   "execution_count": null,
   "id": "f8c4f488-6379-4914-b9c9-06a35f12ce14",
   "metadata": {},
   "outputs": [],
   "source": [
    "df_den[(df_den['am-prob'].round(3)==transmission_am) | (df_den['pb-prob'].round(3)==transmission_pb)]"
   ]
  },
  {
   "cell_type": "code",
   "execution_count": null,
   "id": "915e288b-a318-4426-9629-d77bf8908c02",
   "metadata": {},
   "outputs": [],
   "source": [
    "minn,maxx=df_den['diff-sum-quad'].min(),df_den['diff-sum-quad'].max()"
   ]
  },
  {
   "cell_type": "code",
   "execution_count": null,
   "id": "a21e793a",
   "metadata": {},
   "outputs": [],
   "source": [
    "df_den[(df_den['diff-sum-quad']==minn)]"
   ]
  },
  {
   "cell_type": "code",
   "execution_count": null,
   "id": "fe81b0b9-d7f4-4777-ae81-8b6e3e150dd5",
   "metadata": {},
   "outputs": [],
   "source": [
    "df_den.iloc[16:18,:]"
   ]
  },
  {
   "cell_type": "code",
   "execution_count": null,
   "id": "97fd1762-782f-497f-8b3e-88a5a47b044a",
   "metadata": {},
   "outputs": [],
   "source": [
    "df_den.iloc[16:18,:].mean()"
   ]
  },
  {
   "cell_type": "markdown",
   "id": "3f13c0dc-2e29-4766-a81e-a46dc5130a99",
   "metadata": {},
   "source": [
    "# Densities in the GEANT SIMULATIONS <br> pb-210 = 1.22449 $g/cm^3$ <br> am-241 = 2.55102 $g/cm^3$ <br> min-quad-error density = 1.683673 $g/cm^3$"
   ]
  },
  {
   "cell_type": "code",
   "execution_count": null,
   "id": "8435a828-3b42-4f03-bb4b-67a255b10bed",
   "metadata": {},
   "outputs": [],
   "source": [
    "df_den.loc[df_den['am(0.958)-diff']==df_den['am(0.958)-diff'].min()]"
   ]
  },
  {
   "cell_type": "code",
   "execution_count": null,
   "id": "8604ae57-8084-4572-97f0-050646d949b9",
   "metadata": {},
   "outputs": [],
   "source": [
    "df_den.loc[df_den['diff-sum-quad']==maxx]"
   ]
  },
  {
   "cell_type": "code",
   "execution_count": null,
   "id": "26556c83-e22f-4d02-abd1-7f1c32406d82",
   "metadata": {},
   "outputs": [],
   "source": [
    "#read the file\n",
    "df=pd.read_csv('combined_densities.csv')\n",
    "df"
   ]
  },
  {
   "cell_type": "code",
   "execution_count": null,
   "id": "ada8ea73-460b-4f9a-bbdd-04c55ea795da",
   "metadata": {},
   "outputs": [],
   "source": [
    "df_abs=df.copy().abs()\n",
    "cols=df_abs.columns.to_list()\n",
    "x,y1,y2=df_abs[cols[0]].to_list(),df_abs[cols[3]].to_list(),df_abs[cols[4]].to_list()\n",
    "x[:5],y1[:5],y2[:5]"
   ]
  },
  {
   "cell_type": "code",
   "execution_count": null,
   "id": "4cc12fc2-b499-4818-a3e2-1cef7354f605",
   "metadata": {},
   "outputs": [],
   "source": [
    "%matplotlib qtline\n",
    "am_transmission=0.958\n",
    "pb_transmission=0.964\n",
    "fig,ax=plt.subplots(2,1,figsize=(5,4))\n",
    "ax[0].plot(x,y1,'r.',label='am-diff')\n",
    "ax[0].plot(x,y2,'b.',label='pb-diff')\n",
    "ax[0].set_xlabel('density')\n",
    "ax[0].set_ylabel('density difference')\n",
    "\n",
    "ax[0].axvline(x=am_transmission,color='green',linestyle='--')\n",
    "ax[0].axvline(x=pb_transmission,color='violet',linestyle='--')\n",
    "ax[0].set_xlim(0,3)\n",
    "ax[0].grid(which='both')\n",
    "ax[0].legend()\n",
    "\n",
    "ax[1].plot(x,y1,'r.',label='am-diff')\n",
    "ax[1].plot(x,y2,'b.',label='pb-diff')\n",
    "ax[1].set_xlabel('density')\n",
    "ax[1].set_ylabel('density difference')\n",
    "\n",
    "ax[1].axvline(x=am_transmission,color='green',linestyle='--')\n",
    "ax[1].axvline(x=pb_transmission,color='violet',linestyle='--')\n",
    "ax[1].set_xlim(0,1.05)\n",
    "ax[1].grid(which='both')\n",
    "ax[1].lege\n",
    "\n",
    "nd()\n",
    "plt.tight_layout()\n"
   ]
  },
  {
   "cell_type": "code",
   "execution_count": null,
   "id": "9251d7af",
   "metadata": {},
   "outputs": [],
   "source": [
    "df_abs=df.copy().abs()\n",
    "cols=df_abs.columns.to_list()\n",
    "x,y1,y2=df_abs[cols[0]].to_list(),df_abs[cols[3]].to_list(),df_abs[cols[4]].to_list()\n",
    "x[:5],y1[:5],y2[:5]"
   ]
  },
  {
   "cell_type": "code",
   "execution_count": null,
   "id": "25827639",
   "metadata": {},
   "outputs": [],
   "source": [
    "%matplotlib qtline\n",
    "am_transmission=0.958\n",
    "pb_transmission=0.964\n",
    "fig,ax=plt.subplots(2,1,figsize=(5,4))\n",
    "ax[0].plot(x,y1,'r.',label='am-diff')\n",
    "ax[0].plot(x,y2,'b.',label='pb-diff')\n",
    "ax[0].set_xlabel('density')\n",
    "ax[0].set_ylabel('density difference')\n",
    "\n",
    "ax[0].axvline(x=am_transmission,color='green',linestyle='--')\n",
    "ax[0].axvline(x=pb_transmission,color='violet',linestyle='--')\n",
    "ax[0].set_xlim(0,3)\n",
    "ax[0].grid(which='both')\n",
    "ax[0].legend()\n",
    "\n",
    "ax[1].plot(x,y1,'r.',label='am-diff')\n",
    "ax[1].plot(x,y2,'b.',label='pb-diff')\n",
    "ax[1].set_xlabel('density')\n",
    "ax[1].set_ylabel('density difference')\n",
    "\n",
    "ax[1].axvline(x=am_transmission,color='green',linestyle='--')\n",
    "ax[1].axvline(x=pb_transmission,color='violet',linestyle='--')\n",
    "ax[1].set_xlim(0,1.05)\n",
    "ax[1].grid(which='both')\n",
    "ax[1].lege\n",
    "\n",
    "nd()\n",
    "plt.tight_layout()\n"
   ]
  },
  {
   "cell_type": "code",
   "execution_count": null,
   "id": "a4f5648e-1c2b-4175-8e3c-6efc3b4dec9c",
   "metadata": {},
   "outputs": [],
   "source": [
    "df_abs"
   ]
  },
  {
   "cell_type": "code",
   "execution_count": null,
   "id": "13137f5d-350e-46fc-9443-b01c5557c466",
   "metadata": {},
   "outputs": [],
   "source": []
  }
 ],
 "metadata": {
  "kernelspec": {
   "display_name": "Python 3 (ipykernel)",
   "language": "python",
   "name": "python3"
  },
  "language_info": {
   "codemirror_mode": {
    "name": "ipython",
    "version": 3
   },
   "file_extension": ".py",
   "mimetype": "text/x-python",
   "name": "python",
   "nbconvert_exporter": "python",
   "pygments_lexer": "ipython3",
   "version": "3.10.6"
  }
 },
 "nbformat": 4,
 "nbformat_minor": 5
}
