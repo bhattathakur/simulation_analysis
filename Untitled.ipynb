{
 "cells": [
  {
   "cell_type": "code",
   "execution_count": null,
   "id": "de409d44-6145-471f-b010-d039cd0c6c32",
   "metadata": {},
   "outputs": [],
   "source": [
    "import matplotlib.pyplot as plt\n",
    "import numpy as np"
   ]
  },
  {
   "cell_type": "code",
   "execution_count": null,
   "id": "59906584-20e8-4ac3-8e44-8922a4811dc5",
   "metadata": {},
   "outputs": [],
   "source": [
    "def get_plot(x,y,c):\n",
    "    f, ax = plt.subplots(figsize=(10,10))\n",
    "    ax.plot(x,y,color=c)\n",
    "    return ax"
   ]
  },
  {
   "cell_type": "code",
   "execution_count": null,
   "id": "156e4e21-7def-4592-bef6-9a401dfa48b2",
   "metadata": {},
   "outputs": [],
   "source": [
    "x=np.arange(-10,10,1)\n",
    "ax=get_plot(x,x**2,'r')\n",
    "ax.plot()\n",
    "ax=get_plot(x,x**3,'b')\n",
    "ax.plot()\n"
   ]
  },
  {
   "cell_type": "code",
   "execution_count": null,
   "id": "7c947c78-8c8c-46cf-8cad-d6e11296c4d9",
   "metadata": {},
   "outputs": [],
   "source": [
    "def my_plotter(ax, data1, data2, param_dict):\n",
    "    \"\"\"\n",
    "    A helper function to make a graph\n",
    "\n",
    "    Parameters\n",
    "    ----------\n",
    "    ax : Axes\n",
    "        The axes to draw to\n",
    "\n",
    "    data1 : array\n",
    "       The x data\n",
    "\n",
    "    data2 : array\n",
    "       The y data\n",
    "\n",
    "    param_dict : dict\n",
    "       Dictionary of keyword arguments to pass to ax.plot\n",
    "\n",
    "    Returns\n",
    "    -------\n",
    "    out : list\n",
    "        list of artists added\n",
    "    \"\"\"\n",
    "    out = ax.plot(data1, data2, **param_dict)\n",
    "    return out"
   ]
  },
  {
   "cell_type": "code",
   "execution_count": null,
   "id": "36fa6dfa-1c46-4cd3-83ff-e284be83572c",
   "metadata": {},
   "outputs": [],
   "source": [
    "data1, data2, data3, data4 = np.random.randn(4, 10)\n",
    "fig, ax = plt.subplots(1, 1)\n",
    "my_plotter(ax, data1, data2, {'marker': 'x'})\n",
    "my_plotter(ax, data2, data4, {'marker': '.','color':'r','linestyle':' '})\n",
    "my_plotter(ax, data1, data3, {'marker': '+','color':'k','linestyle':':'})"
   ]
  },
  {
   "cell_type": "code",
   "execution_count": null,
   "id": "85ca58a4-8d5a-4827-9ec4-62ebdf059e5e",
   "metadata": {},
   "outputs": [],
   "source": [
    "import numpy as np\n",
    "import matplotlib.pyplot as plt\n",
    "np.random.seed(1968080)\n",
    "\n",
    "data = {'a': np.arange(50),\n",
    "        'c': np.random.randint(0, 50, 50),\n",
    "        'd': np.random.randn(50)}\n",
    "data['b'] = data['a'] + 10 * np.random.randn(50)\n",
    "data['d'] = np.abs(data['d']) * 100\n",
    "\n",
    "fig, ax = plt.subplots()\n",
    "ax.scatter('a', 'b', c='c', s='d', data=data)\n",
    "ax.set(xlabel='entry a', ylabel='entry b')\n",
    "plt.show()"
   ]
  },
  {
   "cell_type": "code",
   "execution_count": null,
   "id": "987f79a8-2c12-4cdf-9733-01791aa92990",
   "metadata": {},
   "outputs": [],
   "source": []
  },
  {
   "cell_type": "code",
   "execution_count": null,
   "id": "56a98ea0-6cee-4942-8414-088e72ac8ca0",
   "metadata": {},
   "outputs": [],
   "source": []
  }
 ],
 "metadata": {
  "kernelspec": {
   "display_name": "Python 3 (ipykernel)",
   "language": "python",
   "name": "python3"
  },
  "language_info": {
   "codemirror_mode": {
    "name": "ipython",
    "version": 3
   },
   "file_extension": ".py",
   "mimetype": "text/x-python",
   "name": "python",
   "nbconvert_exporter": "python",
   "pygments_lexer": "ipython3",
   "version": "3.10.6"
  }
 },
 "nbformat": 4,
 "nbformat_minor": 5
}
